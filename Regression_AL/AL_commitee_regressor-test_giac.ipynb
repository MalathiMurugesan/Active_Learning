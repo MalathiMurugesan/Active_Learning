{
 "cells": [
  {
   "cell_type": "code",
   "execution_count": 1,
   "id": "c5608f29",
   "metadata": {},
   "outputs": [],
   "source": [
    "import pandas as pd\n",
    "import os\n",
    "import numpy as np\n",
    "\n",
    "import matplotlib.pyplot as plt\n",
    "from sklearn.gaussian_process import GaussianProcessRegressor\n",
    "from sklearn.gaussian_process.kernels import WhiteKernel, RBF\n",
    "\n",
    "\n",
    "\n",
    "from modAL.models import ActiveLearner, CommitteeRegressor\n",
    "from modAL.disagreement import max_std_sampling\n",
    "\n",
    "\n",
    "%matplotlib inline"
   ]
  },
  {
   "cell_type": "code",
   "execution_count": 2,
   "id": "9d2b8014",
   "metadata": {},
   "outputs": [
    {
     "data": {
      "text/plain": [
       "(7077, 6)"
      ]
     },
     "execution_count": 2,
     "metadata": {},
     "output_type": "execute_result"
    }
   ],
   "source": [
    "# cleaned version of the data after removing outliers and negative values\n",
    "path='/workspace/malathi/steam_turbine_stage_1_POC/notebooks/version_1/df_sorted.csv'\n",
    "data=pd.read_csv(path)\n",
    "data.shape"
   ]
  },
  {
   "cell_type": "code",
   "execution_count": 3,
   "id": "70009c79",
   "metadata": {},
   "outputs": [],
   "source": [
    "INPUT_COLUMNS=[ 'expansion ratio','corrected speed','ImpulseStage_CurrentStroke']\n",
    "OUTPUT_COLUMNS=['ImpulseStage_Power', 'Impulse_Discharge_Temperature', 'corrected mass flow']"
   ]
  },
  {
   "cell_type": "code",
   "execution_count": 4,
   "id": "fa26ede9",
   "metadata": {},
   "outputs": [
    {
     "data": {
      "text/html": [
       "<div>\n",
       "<style scoped>\n",
       "    .dataframe tbody tr th:only-of-type {\n",
       "        vertical-align: middle;\n",
       "    }\n",
       "\n",
       "    .dataframe tbody tr th {\n",
       "        vertical-align: top;\n",
       "    }\n",
       "\n",
       "    .dataframe thead th {\n",
       "        text-align: right;\n",
       "    }\n",
       "</style>\n",
       "<table border=\"1\" class=\"dataframe\">\n",
       "  <thead>\n",
       "    <tr style=\"text-align: right;\">\n",
       "      <th></th>\n",
       "      <th>expansion ratio</th>\n",
       "      <th>corrected speed</th>\n",
       "      <th>ImpulseStage_CurrentStroke</th>\n",
       "      <th>ImpulseStage_Power</th>\n",
       "      <th>Impulse_Discharge_Temperature</th>\n",
       "      <th>corrected mass flow</th>\n",
       "    </tr>\n",
       "  </thead>\n",
       "  <tbody>\n",
       "    <tr>\n",
       "      <th>5867</th>\n",
       "      <td>1.434247</td>\n",
       "      <td>137.233751</td>\n",
       "      <td>42.07</td>\n",
       "      <td>1741.749512</td>\n",
       "      <td>381.360291</td>\n",
       "      <td>17.851823</td>\n",
       "    </tr>\n",
       "    <tr>\n",
       "      <th>3601</th>\n",
       "      <td>2.382937</td>\n",
       "      <td>141.738218</td>\n",
       "      <td>27.76</td>\n",
       "      <td>1562.036987</td>\n",
       "      <td>329.530823</td>\n",
       "      <td>10.549638</td>\n",
       "    </tr>\n",
       "    <tr>\n",
       "      <th>208</th>\n",
       "      <td>7.421228</td>\n",
       "      <td>148.789477</td>\n",
       "      <td>10.59</td>\n",
       "      <td>331.522613</td>\n",
       "      <td>302.009766</td>\n",
       "      <td>2.587987</td>\n",
       "    </tr>\n",
       "    <tr>\n",
       "      <th>2513</th>\n",
       "      <td>3.196556</td>\n",
       "      <td>136.013304</td>\n",
       "      <td>22.03</td>\n",
       "      <td>1122.359619</td>\n",
       "      <td>384.828430</td>\n",
       "      <td>7.562243</td>\n",
       "    </tr>\n",
       "    <tr>\n",
       "      <th>1563</th>\n",
       "      <td>3.736741</td>\n",
       "      <td>122.232705</td>\n",
       "      <td>19.17</td>\n",
       "      <td>851.699036</td>\n",
       "      <td>348.896210</td>\n",
       "      <td>6.403618</td>\n",
       "    </tr>\n",
       "  </tbody>\n",
       "</table>\n",
       "</div>"
      ],
      "text/plain": [
       "      expansion ratio  corrected speed  ImpulseStage_CurrentStroke  \\\n",
       "5867         1.434247       137.233751                       42.07   \n",
       "3601         2.382937       141.738218                       27.76   \n",
       "208          7.421228       148.789477                       10.59   \n",
       "2513         3.196556       136.013304                       22.03   \n",
       "1563         3.736741       122.232705                       19.17   \n",
       "\n",
       "      ImpulseStage_Power  Impulse_Discharge_Temperature  corrected mass flow  \n",
       "5867         1741.749512                     381.360291            17.851823  \n",
       "3601         1562.036987                     329.530823            10.549638  \n",
       "208           331.522613                     302.009766             2.587987  \n",
       "2513         1122.359619                     384.828430             7.562243  \n",
       "1563          851.699036                     348.896210             6.403618  "
      ]
     },
     "execution_count": 4,
     "metadata": {},
     "output_type": "execute_result"
    }
   ],
   "source": [
    "data.sample(5)"
   ]
  },
  {
   "cell_type": "code",
   "execution_count": 5,
   "id": "752520a3",
   "metadata": {},
   "outputs": [
    {
     "name": "stdout",
     "output_type": "stream",
     "text": [
      "(7077, 3) (7077,)\n",
      "(7077, 3) (7077, 1)\n"
     ]
    }
   ],
   "source": [
    "# predictions for 'Impulsestage_Power'\n",
    "X=data.drop(OUTPUT_COLUMNS,axis=1)\n",
    "y=data['ImpulseStage_Power']\n",
    "print(X.shape,y.shape)\n",
    "XX=X.values.reshape(-1,3)\n",
    "yy=y.values.reshape(-1,1)\n",
    "print(XX.shape,yy.shape)"
   ]
  },
  {
   "cell_type": "code",
   "execution_count": 6,
   "id": "ca7b3f23",
   "metadata": {},
   "outputs": [
    {
     "name": "stdout",
     "output_type": "stream",
     "text": [
      "(5307, 3) (5307, 1) (1770, 3) (1770, 1)\n",
      "(5207, 3) (5207, 1)\n"
     ]
    }
   ],
   "source": [
    "from sklearn.model_selection import train_test_split\n",
    "\n",
    "n_initial=100\n",
    "X_train, X_test, y_train, y_test = train_test_split(XX, yy)\n",
    "print(X_train.shape,y_train.shape,X_test.shape,y_test.shape)\n",
    "initial_idx = np.random.choice(range(len(X_train)), size=n_initial, replace=False)\n",
    "\n",
    "#X_initial, y_initial = X_train[initial_idx], y_train[initial_idx]\n",
    "X_pool, y_pool = np.delete(X_train, initial_idx, axis=0), np.delete(y_train, initial_idx, axis=0)\n",
    "print(X_pool.shape,y_pool.shape)"
   ]
  },
  {
   "cell_type": "code",
   "execution_count": 8,
   "id": "d8d246fb",
   "metadata": {},
   "outputs": [],
   "source": [
    "from sklearn.base import BaseEstimator, ClassifierMixin, RegressorMixin\n",
    "from sklearn.ensemble import RandomForestRegressor\n",
    "\n",
    "def treebased_estimate_error(model:RegressorMixin, X:np.array, percentile=70) -> tuple:\n",
    "\n",
    "    '''Estimate UQ based on enseemble'''\n",
    "\n",
    "    err_down = []\n",
    "    err_up = []\n",
    "    for x in range(len(X)):\n",
    "        preds = []\n",
    "        for pred in model.estimators_:\n",
    "            preds.append(pred.predict([X[x]])) # [0]\n",
    "        err_down.append(np.percentile(preds, (100 - percentile) / 2. ))\n",
    "        err_up.append(np.percentile(preds, 100 - (100 - percentile) / 2.))\n",
    "    return err_down, err_up\n",
    "\n",
    "class MalathiCustomRegressor(BaseEstimator, RegressorMixin):\n",
    "    \n",
    "    def __init__(self):\n",
    "        self.model = RandomForestRegressor(max_depth=2, random_state=0)\n",
    "\n",
    "    def fit(self, X, y=None):\n",
    "        return self.model.fit(X,y)\n",
    "    \n",
    "    def predict(self, X, y=None, return_std=False, return_cov=False):\n",
    "        y_pred = self.model.predict(X)\n",
    "        \n",
    "        if return_std:\n",
    "            # our trick\n",
    "            err_down, err_up = treebased_estimate_error(self.model, X)\n",
    "\n",
    "            return y_pred, np.abs(np.array(err_up) - np.array(err_down))\n",
    "        else:\n",
    "            return y_pred"
   ]
  },
  {
   "cell_type": "code",
   "execution_count": 9,
   "id": "9ac1baac",
   "metadata": {},
   "outputs": [],
   "source": [
    "initial_idx = list()\n",
    "initial_idx.append(np.random.choice(range(100), size=n_initial, replace=False))\n",
    "initial_idx.append(np.random.choice(range(100, 200), size=n_initial, replace=False))\n",
    "learner_list = [ActiveLearner(\n",
    "                        estimator=MalathiCustomRegressor(),\n",
    "                        X_training=X_train[idx], y_training=y_train[idx].ravel()\n",
    "                )\n",
    "                for idx in initial_idx]"
   ]
  },
  {
   "cell_type": "code",
   "execution_count": 10,
   "id": "53cb36d3",
   "metadata": {},
   "outputs": [],
   "source": [
    "# initializing the Committee\n",
    "committee = CommitteeRegressor(\n",
    "    learner_list=learner_list,\n",
    "    query_strategy=max_std_sampling\n",
    ")"
   ]
  },
  {
   "cell_type": "code",
   "execution_count": 11,
   "id": "f5f0bc68",
   "metadata": {},
   "outputs": [],
   "source": [
    "pred, std = committee.predict(X_pool, return_std=True)\n",
    "#pred = pred.reshape(-1, )"
   ]
  },
  {
   "cell_type": "code",
   "execution_count": 12,
   "id": "0d3cd645",
   "metadata": {},
   "outputs": [
    {
     "data": {
      "text/plain": [
       "array([ 963.37288107,  482.56440339, 1396.06180503,  963.37288107,\n",
       "       1726.64702429, 1415.05274278])"
      ]
     },
     "execution_count": 12,
     "metadata": {},
     "output_type": "execute_result"
    }
   ],
   "source": [
    "pred[10:16]"
   ]
  },
  {
   "cell_type": "code",
   "execution_count": 13,
   "id": "19960788",
   "metadata": {},
   "outputs": [
    {
     "data": {
      "text/plain": [
       "array([ 65.66918053,  47.01812391,  88.11903449,  65.66918053,\n",
       "         0.26919923, 107.10997225])"
      ]
     },
     "execution_count": 13,
     "metadata": {},
     "output_type": "execute_result"
    }
   ],
   "source": [
    "std[10:16]"
   ]
  },
  {
   "cell_type": "code",
   "execution_count": 14,
   "id": "6c6baf89",
   "metadata": {},
   "outputs": [
    {
     "data": {
      "text/plain": [
       "array([[ 878.8761597],\n",
       "       [ 335.9832764],\n",
       "       [1246.7298584],\n",
       "       [ 890.2052002],\n",
       "       [1679.5843506],\n",
       "       [1378.883667 ]])"
      ]
     },
     "execution_count": 14,
     "metadata": {},
     "output_type": "execute_result"
    }
   ],
   "source": [
    "y_pool[10:16]"
   ]
  },
  {
   "cell_type": "code",
   "execution_count": null,
   "id": "6732e574",
   "metadata": {},
   "outputs": [],
   "source": []
  },
  {
   "cell_type": "code",
   "execution_count": 15,
   "id": "f05a8770",
   "metadata": {},
   "outputs": [],
   "source": [
    "# active regression\n",
    "n_queries = 10\n",
    "for idx in range(n_queries):\n",
    "    query_idx, query_instance = committee.query(X_train)\n",
    "    committee.teach(X_train[query_idx], y_train[query_idx].ravel())"
   ]
  },
  {
   "cell_type": "code",
   "execution_count": 16,
   "id": "45820966",
   "metadata": {},
   "outputs": [],
   "source": [
    "pred_1, std_1 = committee.predict(X_pool, return_std=True)"
   ]
  },
  {
   "cell_type": "code",
   "execution_count": 17,
   "id": "fe144abb",
   "metadata": {},
   "outputs": [
    {
     "data": {
      "text/plain": [
       "array([1497.1876421 , 1699.60942432, 1699.60942432, 1699.60942432,\n",
       "       1699.60942432,  969.13871248])"
      ]
     },
     "execution_count": 17,
     "metadata": {},
     "output_type": "execute_result"
    }
   ],
   "source": [
    "pred_1[0:6]"
   ]
  },
  {
   "cell_type": "code",
   "execution_count": 20,
   "id": "94b7abf8",
   "metadata": {},
   "outputs": [
    {
     "data": {
      "text/plain": [
       "array([102.27412639,   0.83374791,   0.83374791,   0.83374791,\n",
       "         0.83374791,  65.50625218])"
      ]
     },
     "execution_count": 20,
     "metadata": {},
     "output_type": "execute_result"
    }
   ],
   "source": [
    "std_1[0:6] # if there is an improvement for some examples, uncertain good examples to the training set as they are less\n",
    "# should be pushed to the traing set and training set should be extended with these good examples"
   ]
  },
  {
   "cell_type": "code",
   "execution_count": 21,
   "id": "27e0c2b0",
   "metadata": {},
   "outputs": [
    {
     "data": {
      "text/plain": [
       "array([[1315.9033203],\n",
       "       [1909.7054443],\n",
       "       [1776.4014893],\n",
       "       [1877.9771729],\n",
       "       [2015.9927979],\n",
       "       [ 939.3825684]])"
      ]
     },
     "execution_count": 21,
     "metadata": {},
     "output_type": "execute_result"
    }
   ],
   "source": [
    "y_pool[0:6]"
   ]
  },
  {
   "cell_type": "code",
   "execution_count": null,
   "id": "3790c828",
   "metadata": {},
   "outputs": [],
   "source": [
    "# cas1: after getting the more informative examples train the model and query again\n",
    "# case2: find most ambiguous examples and add to the trainig set to get best performance"
   ]
  },
  {
   "cell_type": "code",
   "execution_count": null,
   "id": "beb726e6",
   "metadata": {},
   "outputs": [],
   "source": []
  },
  {
   "cell_type": "code",
   "execution_count": null,
   "id": "905d2cad",
   "metadata": {},
   "outputs": [],
   "source": []
  }
 ],
 "metadata": {
  "kernelspec": {
   "display_name": "Python 3 (ipykernel)",
   "language": "python",
   "name": "python3"
  },
  "language_info": {
   "codemirror_mode": {
    "name": "ipython",
    "version": 3
   },
   "file_extension": ".py",
   "mimetype": "text/x-python",
   "name": "python",
   "nbconvert_exporter": "python",
   "pygments_lexer": "ipython3",
   "version": "3.8.10"
  },
  "toc": {
   "base_numbering": 1,
   "nav_menu": {},
   "number_sections": true,
   "sideBar": true,
   "skip_h1_title": false,
   "title_cell": "Table of Contents",
   "title_sidebar": "Contents",
   "toc_cell": false,
   "toc_position": {},
   "toc_section_display": true,
   "toc_window_display": false
  },
  "varInspector": {
   "cols": {
    "lenName": 16,
    "lenType": 16,
    "lenVar": 40
   },
   "kernels_config": {
    "python": {
     "delete_cmd_postfix": "",
     "delete_cmd_prefix": "del ",
     "library": "var_list.py",
     "varRefreshCmd": "print(var_dic_list())"
    },
    "r": {
     "delete_cmd_postfix": ") ",
     "delete_cmd_prefix": "rm(",
     "library": "var_list.r",
     "varRefreshCmd": "cat(var_dic_list()) "
    }
   },
   "types_to_exclude": [
    "module",
    "function",
    "builtin_function_or_method",
    "instance",
    "_Feature"
   ],
   "window_display": false
  }
 },
 "nbformat": 4,
 "nbformat_minor": 5
}
