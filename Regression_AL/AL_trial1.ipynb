{
 "cells": [
  {
   "cell_type": "code",
   "execution_count": 2,
   "id": "c5608f29",
   "metadata": {},
   "outputs": [],
   "source": [
    "import pandas as pd\n",
    "import os\n",
    "import numpy as np\n",
    "\n",
    "import matplotlib.pyplot as plt\n",
    "from sklearn.gaussian_process import GaussianProcessRegressor\n",
    "from sklearn.gaussian_process.kernels import WhiteKernel, RBF\n",
    "\n",
    "from modAL.models import ActiveLearner\n",
    "\n",
    "from sklearn.model_selection import train_test_split\n",
    "from sklearn.metrics import r2_score,mean_squared_error\n",
    "import math\n",
    "\n",
    "%matplotlib inline"
   ]
  },
  {
   "cell_type": "code",
   "execution_count": 3,
   "id": "9d2b8014",
   "metadata": {},
   "outputs": [
    {
     "data": {
      "text/plain": [
       "(7077, 6)"
      ]
     },
     "execution_count": 3,
     "metadata": {},
     "output_type": "execute_result"
    }
   ],
   "source": [
    "# cleaned version of the data after removing outliers and negative values\n",
    "path='/workspace/malathi/steam_turbine_stage_1_POC/notebooks/version_1/df_sorted.csv'\n",
    "data=pd.read_csv(path)\n",
    "data.shape"
   ]
  },
  {
   "cell_type": "code",
   "execution_count": 4,
   "id": "70009c79",
   "metadata": {},
   "outputs": [],
   "source": [
    "INPUT_COLUMNS=[ 'expansion ratio','corrected speed','ImpulseStage_CurrentStroke']\n",
    "OUTPUT_COLUMNS=['ImpulseStage_Power', 'Impulse_Discharge_Temperature', 'corrected mass flow']"
   ]
  },
  {
   "cell_type": "code",
   "execution_count": 32,
   "id": "752520a3",
   "metadata": {},
   "outputs": [],
   "source": [
    "X=data.drop(OUTPUT_COLUMNS,axis=1)\n",
    "y=data['ImpulseStage_Power']\n",
    "\n",
    "X=np.array(X)\n",
    "y=np.array(y)\n",
    "\n",
    "X_pool, X_test, y_pool, y_test = train_test_split(X,y, test_size=0.7, random_state=1)\n",
    "#X_pool, X_test, y_pool, y_test = X_pool.reset_index(drop=True), X_test.reset_index(drop=True), y_pool.reset_index(drop=True), y_test.reset_index(drop=True)\n",
    "\n",
    "# train_X,test_X,train_y,test_y=train_test_split(X,y,test_size=0.8,random_state=4)\n",
    "\n",
    "# print(train_X.shape,test_X.shape,train_y.shape,test_y.shape)"
   ]
  },
  {
   "cell_type": "code",
   "execution_count": 37,
   "id": "54d16b82",
   "metadata": {},
   "outputs": [
    {
     "data": {
      "text/plain": [
       "(2123, 3)"
      ]
     },
     "execution_count": 37,
     "metadata": {},
     "output_type": "execute_result"
    }
   ],
   "source": [
    "X_pool.shape"
   ]
  },
  {
   "cell_type": "code",
   "execution_count": 90,
   "id": "c8506761",
   "metadata": {},
   "outputs": [
    {
     "data": {
      "text/plain": [
       "(2123,)"
      ]
     },
     "execution_count": 90,
     "metadata": {},
     "output_type": "execute_result"
    }
   ],
   "source": [
    "y_pool.shape"
   ]
  },
  {
   "cell_type": "code",
   "execution_count": 40,
   "id": "f43bb065",
   "metadata": {},
   "outputs": [
    {
     "data": {
      "text/plain": [
       "array([[  7.40725773, 146.46291103,  10.59      ],\n",
       "       [  1.3569408 , 136.96758849,  47.79      ],\n",
       "       [  1.78699658, 140.52933031,  33.48      ],\n",
       "       ...,\n",
       "       [  2.11621504, 134.16301992,  30.62      ],\n",
       "       [  7.26466999, 119.29813583,  10.59      ],\n",
       "       [  1.6215268 , 141.73821773,  36.35      ]])"
      ]
     },
     "execution_count": 40,
     "metadata": {},
     "output_type": "execute_result"
    }
   ],
   "source": [
    "X_pool"
   ]
  },
  {
   "cell_type": "code",
   "execution_count": 6,
   "id": "a58aa07c",
   "metadata": {},
   "outputs": [],
   "source": [
    "def GP_regression_std(regressor, data):\n",
    "    _, std = regressor.predict(data, return_std=True)\n",
    "    query_idx = np.argmax(std)\n",
    "    return query_idx, data[query_idx]"
   ]
  },
  {
   "cell_type": "code",
   "execution_count": 8,
   "id": "5c673feb",
   "metadata": {},
   "outputs": [],
   "source": [
    "#working trial1\n",
    "# n_initial=100\n",
    "# initial_idx = np.random.choice(range(len(X_pool)), size=n_initial, replace=False)\n",
    "# X_training, y_training = X_pool.iloc[initial_idx], y_pool.iloc[initial_idx]\n",
    "\n",
    "\n",
    "# kernel = RBF(length_scale=1.0, length_scale_bounds=(1e-2, 1e3)) \n",
    "         \n",
    "# regressor = ActiveLearner(\n",
    "#     estimator=GaussianProcessRegressor(kernel=kernel),\n",
    "#     query_strategy=GP_regression_std,\n",
    "#     X_training=X_training.values.reshape(-1,3), y_training=y_training.values.reshape(-1,1)\n",
    "# )\n",
    "# y_pred, y_std = regressor.predict(X_test.values.reshape(-1,3), return_std=True)\n",
    "# y_pred, y_std = y_pred, y_std"
   ]
  },
  {
   "cell_type": "code",
   "execution_count": 91,
   "id": "d5f87ec6",
   "metadata": {},
   "outputs": [],
   "source": [
    "# trial-2 converted to numpy arrays -working\n",
    "n_initial = 100\n",
    "initial_idx = np.random.choice(range(len(X_pool)), size=n_initial, replace=False)\n",
    "X_training, y_training = X_pool[initial_idx], y_pool[initial_idx]\n",
    "\n",
    "kernel = RBF(length_scale=1.0, length_scale_bounds=(1e-2, 1e3)) \n",
    "         \n",
    "\n",
    "regressor = ActiveLearner(\n",
    "    estimator=GaussianProcessRegressor(kernel=kernel),\n",
    "    query_strategy=GP_regression_std,\n",
    "    X_training=X_training.reshape(-1,3), y_training=y_training.reshape(-1,1)\n",
    ")"
   ]
  },
  {
   "cell_type": "code",
   "execution_count": 86,
   "id": "8c0b3a9b",
   "metadata": {},
   "outputs": [
    {
     "data": {
      "text/plain": [
       "array([1112.0407715,  343.4978027,  928.5059204, 1219.0772705,\n",
       "       1759.4953613])"
      ]
     },
     "execution_count": 86,
     "metadata": {},
     "output_type": "execute_result"
    }
   ],
   "source": [
    "y_training[0:5]"
   ]
  },
  {
   "cell_type": "code",
   "execution_count": 85,
   "id": "0b32d0e7",
   "metadata": {},
   "outputs": [
    {
     "data": {
      "text/plain": [
       "array([[  3.19794605, 135.09132015,  22.03      ],\n",
       "       [  7.38173984, 141.30885981,  10.59      ],\n",
       "       [  3.71547419, 137.59020561,  19.17      ],\n",
       "       [  2.76868094, 129.19134173,  24.9       ],\n",
       "       [  1.6459694 , 125.74765955,  36.35      ]])"
      ]
     },
     "execution_count": 85,
     "metadata": {},
     "output_type": "execute_result"
    }
   ],
   "source": [
    "X_training[0:5]"
   ]
  },
  {
   "cell_type": "code",
   "execution_count": 87,
   "id": "083a765c",
   "metadata": {},
   "outputs": [
    {
     "data": {
      "text/plain": [
       "array([  3.19794605, 135.09132015,  22.03      ])"
      ]
     },
     "execution_count": 87,
     "metadata": {},
     "output_type": "execute_result"
    }
   ],
   "source": [
    "X_training[0]"
   ]
  },
  {
   "cell_type": "code",
   "execution_count": 88,
   "id": "31c1c25b",
   "metadata": {},
   "outputs": [
    {
     "data": {
      "text/plain": [
       "1112.0407715"
      ]
     },
     "execution_count": 88,
     "metadata": {},
     "output_type": "execute_result"
    }
   ],
   "source": [
    "y_training[0]"
   ]
  },
  {
   "cell_type": "code",
   "execution_count": 42,
   "id": "99200e08",
   "metadata": {},
   "outputs": [
    {
     "data": {
      "text/plain": [
       "array([[1.00171902e+02],\n",
       "       [5.87262782e-03],\n",
       "       [9.64167088e+02],\n",
       "       [5.32903511e+02],\n",
       "       [2.22540000e+02],\n",
       "       [7.62141438e+02],\n",
       "       [1.10534304e+03],\n",
       "       [1.11288494e+02],\n",
       "       [4.52308448e-05],\n",
       "       [2.01827941e+03]])"
      ]
     },
     "execution_count": 42,
     "metadata": {},
     "output_type": "execute_result"
    }
   ],
   "source": [
    "y_pred[0:10]"
   ]
  },
  {
   "cell_type": "code",
   "execution_count": 43,
   "id": "85cd4672",
   "metadata": {},
   "outputs": [
    {
     "data": {
      "text/plain": [
       "array([0.95023409, 1.        , 0.29174304, 0.95988268, 0.9809069 ,\n",
       "       0.76262184, 0.56872809, 0.99768268, 1.        , 0.00499566])"
      ]
     },
     "execution_count": 43,
     "metadata": {},
     "output_type": "execute_result"
    }
   ],
   "source": [
    "y_std[0:10]"
   ]
  },
  {
   "cell_type": "code",
   "execution_count": 75,
   "id": "d8fe9b5b",
   "metadata": {},
   "outputs": [],
   "source": [
    "xx=X_pool.reshape(-1,3)"
   ]
  },
  {
   "cell_type": "code",
   "execution_count": 76,
   "id": "a7773576",
   "metadata": {},
   "outputs": [
    {
     "data": {
      "text/plain": [
       "array([[  7.40725773, 146.46291103,  10.59      ],\n",
       "       [  1.3569408 , 136.96758849,  47.79      ],\n",
       "       [  1.78699658, 140.52933031,  33.48      ],\n",
       "       ...,\n",
       "       [  2.11621504, 134.16301992,  30.62      ],\n",
       "       [  7.26466999, 119.29813583,  10.59      ],\n",
       "       [  1.6215268 , 141.73821773,  36.35      ]])"
      ]
     },
     "execution_count": 76,
     "metadata": {},
     "output_type": "execute_result"
    }
   ],
   "source": [
    "xx"
   ]
  },
  {
   "cell_type": "code",
   "execution_count": null,
   "id": "42a91132",
   "metadata": {},
   "outputs": [],
   "source": [
    "xx[0]"
   ]
  },
  {
   "cell_type": "code",
   "execution_count": null,
   "id": "9f6dcf80",
   "metadata": {},
   "outputs": [],
   "source": [
    "xx[0:5]"
   ]
  },
  {
   "cell_type": "code",
   "execution_count": null,
   "id": "eb6411ff",
   "metadata": {},
   "outputs": [],
   "source": [
    "X_pool[0:5]"
   ]
  },
  {
   "cell_type": "code",
   "execution_count": null,
   "id": "af1b0e61",
   "metadata": {},
   "outputs": [],
   "source": [
    "X_pool.loc[5947]"
   ]
  },
  {
   "cell_type": "code",
   "execution_count": null,
   "id": "4677d94c",
   "metadata": {},
   "outputs": [],
   "source": [
    "query_idx, query_instance = regressor.query(X_pool.loc[5947].values.reshape(-1,3))\n",
    "print(query_idx, query_instance)"
   ]
  },
  {
   "cell_type": "code",
   "execution_count": null,
   "id": "57dd7249",
   "metadata": {},
   "outputs": [],
   "source": [
    "X_pool.iloc[0]"
   ]
  },
  {
   "cell_type": "code",
   "execution_count": null,
   "id": "26c0f8ca",
   "metadata": {},
   "outputs": [],
   "source": [
    "y_pool[0:5]"
   ]
  },
  {
   "cell_type": "code",
   "execution_count": 18,
   "id": "07f7d420",
   "metadata": {},
   "outputs": [],
   "source": [
    "X_pool=X_pool.values\n",
    "y_pool=y_pool.values"
   ]
  },
  {
   "cell_type": "code",
   "execution_count": 21,
   "id": "d2cb4c39",
   "metadata": {},
   "outputs": [],
   "source": [
    "yy=y_pool[0:5].copy()"
   ]
  },
  {
   "cell_type": "code",
   "execution_count": 22,
   "id": "45ccc4b9",
   "metadata": {},
   "outputs": [
    {
     "data": {
      "text/plain": [
       "array([[ 335.9832764],\n",
       "       [1755.1898193],\n",
       "       [1941.7845459],\n",
       "       [ 725.1453247],\n",
       "       [1583.4072266]])"
      ]
     },
     "execution_count": 22,
     "metadata": {},
     "output_type": "execute_result"
    }
   ],
   "source": [
    "yy=y_pool.reshape(-1,1)\n",
    "yy[0:5]"
   ]
  },
  {
   "cell_type": "code",
   "execution_count": 62,
   "id": "83b2ce69",
   "metadata": {},
   "outputs": [
    {
     "data": {
      "text/plain": [
       "array([335.9832764])"
      ]
     },
     "execution_count": 62,
     "metadata": {},
     "output_type": "execute_result"
    }
   ],
   "source": [
    "a=y_pool[0].reshape(1,-1)\n",
    "aa=a.flatten()\n",
    "aa"
   ]
  },
  {
   "cell_type": "code",
   "execution_count": 51,
   "id": "42cacde5",
   "metadata": {},
   "outputs": [
    {
     "data": {
      "text/plain": [
       "array([[  7.40725773, 146.46291103,  10.59      ],\n",
       "       [  1.3569408 , 136.96758849,  47.79      ],\n",
       "       [  1.78699658, 140.52933031,  33.48      ],\n",
       "       ...,\n",
       "       [  2.11621504, 134.16301992,  30.62      ],\n",
       "       [  7.26466999, 119.29813583,  10.59      ],\n",
       "       [  1.6215268 , 141.73821773,  36.35      ]])"
      ]
     },
     "execution_count": 51,
     "metadata": {},
     "output_type": "execute_result"
    }
   ],
   "source": [
    "b=X_pool.reshape(-1,3)\n",
    "b"
   ]
  },
  {
   "cell_type": "code",
   "execution_count": 93,
   "id": "505412a5",
   "metadata": {},
   "outputs": [
    {
     "name": "stdout",
     "output_type": "stream",
     "text": [
      "0 \t\t [  7.40725773 146.46291103  10.59      ]\n",
      "---------------------------\n",
      "[  7.40725773 146.46291103  10.59      ] 335.9832764\n",
      "0 \t\t [  7.40725773 146.46291103  10.59      ]\n",
      "---------------------------\n",
      "[  7.40725773 146.46291103  10.59      ] 335.9832764\n",
      "0 \t\t [  7.40725773 146.46291103  10.59      ]\n",
      "---------------------------\n",
      "[  7.40725773 146.46291103  10.59      ] 335.9832764\n",
      "0 \t\t [  7.40725773 146.46291103  10.59      ]\n",
      "---------------------------\n",
      "[  7.40725773 146.46291103  10.59      ] 335.9832764\n",
      "0 \t\t [  7.40725773 146.46291103  10.59      ]\n",
      "---------------------------\n",
      "[  7.40725773 146.46291103  10.59      ] 335.9832764\n",
      "0 \t\t [  7.40725773 146.46291103  10.59      ]\n",
      "---------------------------\n",
      "[  7.40725773 146.46291103  10.59      ] 335.9832764\n",
      "0 \t\t [  7.40725773 146.46291103  10.59      ]\n",
      "---------------------------\n",
      "[  7.40725773 146.46291103  10.59      ] 335.9832764\n",
      "0 \t\t [  7.40725773 146.46291103  10.59      ]\n",
      "---------------------------\n",
      "[  7.40725773 146.46291103  10.59      ] 335.9832764\n",
      "0 \t\t [  7.40725773 146.46291103  10.59      ]\n",
      "---------------------------\n",
      "[  7.40725773 146.46291103  10.59      ] 335.9832764\n",
      "0 \t\t [  7.40725773 146.46291103  10.59      ]\n",
      "---------------------------\n",
      "[  7.40725773 146.46291103  10.59      ] 335.9832764\n",
      "0 \t\t [  7.40725773 146.46291103  10.59      ]\n",
      "---------------------------\n",
      "[  7.40725773 146.46291103  10.59      ] 335.9832764\n",
      "0 \t\t [  7.40725773 146.46291103  10.59      ]\n",
      "---------------------------\n",
      "[  7.40725773 146.46291103  10.59      ] 335.9832764\n",
      "0 \t\t [  7.40725773 146.46291103  10.59      ]\n",
      "---------------------------\n",
      "[  7.40725773 146.46291103  10.59      ] 335.9832764\n",
      "0 \t\t [  7.40725773 146.46291103  10.59      ]\n",
      "---------------------------\n",
      "[  7.40725773 146.46291103  10.59      ] 335.9832764\n",
      "0 \t\t [  7.40725773 146.46291103  10.59      ]\n",
      "---------------------------\n",
      "[  7.40725773 146.46291103  10.59      ] 335.9832764\n",
      "0 \t\t [  7.40725773 146.46291103  10.59      ]\n",
      "---------------------------\n",
      "[  7.40725773 146.46291103  10.59      ] 335.9832764\n",
      "0 \t\t [  7.40725773 146.46291103  10.59      ]\n",
      "---------------------------\n",
      "[  7.40725773 146.46291103  10.59      ] 335.9832764\n",
      "0 \t\t [  7.40725773 146.46291103  10.59      ]\n",
      "---------------------------\n",
      "[  7.40725773 146.46291103  10.59      ] 335.9832764\n",
      "0 \t\t [  7.40725773 146.46291103  10.59      ]\n",
      "---------------------------\n",
      "[  7.40725773 146.46291103  10.59      ] 335.9832764\n",
      "0 \t\t [  7.40725773 146.46291103  10.59      ]\n",
      "---------------------------\n",
      "[  7.40725773 146.46291103  10.59      ] 335.9832764\n",
      "0 \t\t [  7.40725773 146.46291103  10.59      ]\n",
      "---------------------------\n",
      "[  7.40725773 146.46291103  10.59      ] 335.9832764\n",
      "0 \t\t [  7.40725773 146.46291103  10.59      ]\n",
      "---------------------------\n",
      "[  7.40725773 146.46291103  10.59      ] 335.9832764\n",
      "0 \t\t [  7.40725773 146.46291103  10.59      ]\n",
      "---------------------------\n",
      "[  7.40725773 146.46291103  10.59      ] 335.9832764\n",
      "0 \t\t [  7.40725773 146.46291103  10.59      ]\n",
      "---------------------------\n",
      "[  7.40725773 146.46291103  10.59      ] 335.9832764\n",
      "0 \t\t [  7.40725773 146.46291103  10.59      ]\n",
      "---------------------------\n",
      "[  7.40725773 146.46291103  10.59      ] 335.9832764\n"
     ]
    }
   ],
   "source": [
    "# with active learning\n",
    "n_queries = 25\n",
    "for idx in range(n_queries):\n",
    "    query_idx, query_instance = regressor.query(X_pool)\n",
    "    print(query_idx,'\\t\\t', query_instance)\n",
    "    print('---------------------------')\n",
    "    print(X_pool[query_idx],y_pool[query_idx])\n",
    "    \n",
    "    \n",
    "   # regressor.teach(X_pool[query_idx].reshape(3,-1), y_pool[query_idx].reshape(1,-1))"
   ]
  },
  {
   "cell_type": "code",
   "execution_count": null,
   "id": "4bcfbf2a",
   "metadata": {},
   "outputs": [],
   "source": []
  }
 ],
 "metadata": {
  "kernelspec": {
   "display_name": "Python 3 (ipykernel)",
   "language": "python",
   "name": "python3"
  },
  "language_info": {
   "codemirror_mode": {
    "name": "ipython",
    "version": 3
   },
   "file_extension": ".py",
   "mimetype": "text/x-python",
   "name": "python",
   "nbconvert_exporter": "python",
   "pygments_lexer": "ipython3",
   "version": "3.8.10"
  },
  "varInspector": {
   "cols": {
    "lenName": 16,
    "lenType": 16,
    "lenVar": 40
   },
   "kernels_config": {
    "python": {
     "delete_cmd_postfix": "",
     "delete_cmd_prefix": "del ",
     "library": "var_list.py",
     "varRefreshCmd": "print(var_dic_list())"
    },
    "r": {
     "delete_cmd_postfix": ") ",
     "delete_cmd_prefix": "rm(",
     "library": "var_list.r",
     "varRefreshCmd": "cat(var_dic_list()) "
    }
   },
   "types_to_exclude": [
    "module",
    "function",
    "builtin_function_or_method",
    "instance",
    "_Feature"
   ],
   "window_display": false
  }
 },
 "nbformat": 4,
 "nbformat_minor": 5
}
