{
 "cells": [
  {
   "cell_type": "code",
   "execution_count": 1,
   "id": "88a9df08",
   "metadata": {},
   "outputs": [],
   "source": [
    "import pandas as pd\n",
    "import os\n",
    "import numpy as np\n",
    "\n",
    "import matplotlib.pyplot as plt\n",
    "from sklearn.gaussian_process import GaussianProcessRegressor\n",
    "from sklearn.gaussian_process.kernels import WhiteKernel, RBF\n",
    "\n",
    "#from modAL.models import ActiveLearner\n",
    "\n",
    "from sklearn.model_selection import train_test_split\n",
    "from sklearn.metrics import r2_score,mean_squared_error\n",
    "import math\n",
    "\n",
    "%matplotlib inline"
   ]
  },
  {
   "cell_type": "code",
   "execution_count": 2,
   "id": "40022570",
   "metadata": {},
   "outputs": [
    {
     "data": {
      "text/plain": [
       "(7077, 6)"
      ]
     },
     "execution_count": 2,
     "metadata": {},
     "output_type": "execute_result"
    }
   ],
   "source": [
    "# cleaned version of the data after removing outliers and negative values\n",
    "path='/workspace/malathi/steam_turbine_stage_1_POC/notebooks/version_1/df_sorted.csv'\n",
    "data=pd.read_csv(path)\n",
    "data.shape"
   ]
  },
  {
   "cell_type": "code",
   "execution_count": 3,
   "id": "3ca52f7e",
   "metadata": {},
   "outputs": [],
   "source": [
    "INPUT_COLUMNS=[ 'expansion ratio','corrected speed','ImpulseStage_CurrentStroke']\n",
    "OUTPUT_COLUMNS=['ImpulseStage_Power', 'Impulse_Discharge_Temperature', 'corrected mass flow']"
   ]
  },
  {
   "cell_type": "code",
   "execution_count": 9,
   "id": "7652c581",
   "metadata": {},
   "outputs": [
    {
     "name": "stdout",
     "output_type": "stream",
     "text": [
      "(7077, 3) (7077,)\n"
     ]
    }
   ],
   "source": [
    "# predictions for 'Impulsestage_Power'\n",
    "X=data.drop(OUTPUT_COLUMNS,axis=1)\n",
    "y=data['ImpulseStage_Power']\n",
    "print(X.shape,y.shape)\n"
   ]
  },
  {
   "cell_type": "code",
   "execution_count": 5,
   "id": "1c58b9bd",
   "metadata": {},
   "outputs": [
    {
     "name": "stdout",
     "output_type": "stream",
     "text": [
      "(7077, 3) (7077, 1)\n"
     ]
    }
   ],
   "source": [
    "# XX=X.values.reshape(-1,3)\n",
    "# yy=y.values.reshape(-1,1)\n",
    "print(XX.shape,yy.shape)"
   ]
  },
  {
   "cell_type": "code",
   "execution_count": 10,
   "id": "74abc50b",
   "metadata": {},
   "outputs": [],
   "source": [
    "X_pool, X_test, y_pool, y_test = train_test_split(X, y, test_size=0.2, random_state=1)\n",
    "#X_pool, X_test, y_pool, y_test = X_pool.reset_index(drop=True), X_test.reset_index(drop=True), y_pool.reset_index(drop=True), y_test.reset_index(drop=True)\n",
    "# random state 1 5 iterations\n",
    "# random state 2 20 iteration"
   ]
  },
  {
   "cell_type": "code",
   "execution_count": 14,
   "id": "922b68a8",
   "metadata": {},
   "outputs": [],
   "source": [
    "X_pool, X_test, y_pool, y_test = X_pool.reset_index(drop=True), X_test.reset_index(drop=True), \\\n",
    "y_pool.reset_index(drop=True), y_test.reset_index(drop=True)"
   ]
  },
  {
   "cell_type": "code",
   "execution_count": null,
   "id": "be4bf0f5",
   "metadata": {},
   "outputs": [],
   "source": []
  },
  {
   "cell_type": "code",
   "execution_count": 19,
   "id": "67181c41",
   "metadata": {},
   "outputs": [],
   "source": [
    "# take 100 points from the pool, train them\n",
    "train_idx=list(range(100))\n",
    "# keep extending this range to get more ambiguous points\n",
    "unknown_idx=list(range(100,1000))"
   ]
  },
  {
   "cell_type": "code",
   "execution_count": 20,
   "id": "07f34b2e",
   "metadata": {},
   "outputs": [],
   "source": [
    "X_train=X_pool.iloc[train_idx]\n",
    "y_train=y_pool.iloc[train_idx]"
   ]
  },
  {
   "cell_type": "code",
   "execution_count": 37,
   "id": "f2219c08",
   "metadata": {},
   "outputs": [],
   "source": [
    "X_unk = X_pool.iloc[unknown_idx]"
   ]
  },
  {
   "cell_type": "code",
   "execution_count": 27,
   "id": "c1838e97",
   "metadata": {},
   "outputs": [],
   "source": [
    "estimator=GaussianProcessRegressor()\n",
    "model=estimator.fit(X_train,y_train)"
   ]
  },
  {
   "cell_type": "code",
   "execution_count": 29,
   "id": "b93468c0",
   "metadata": {},
   "outputs": [
    {
     "name": "stderr",
     "output_type": "stream",
     "text": [
      "/usr/local/lib/python3.8/dist-packages/sklearn/gaussian_process/_gpr.py:362: UserWarning: Predicted variances smaller than 0. Setting those variances to 0.\n",
      "  warnings.warn(\"Predicted variances smaller than 0. \"\n"
     ]
    }
   ],
   "source": [
    "# simply for verification\n",
    "# a= predictions # b =std\n",
    "#a,b=model.predict(X_test,return_std=True)"
   ]
  },
  {
   "cell_type": "code",
   "execution_count": 60,
   "id": "eeb96c0c",
   "metadata": {},
   "outputs": [],
   "source": [
    "def find_most_ambiguous(model,data):\n",
    "    _, std = model.predict(data, return_std=True)\n",
    "    query_idx = np.argmax(std)\n",
    "    print(query_idx)\n",
    "    return query_idx, X_pool.iloc[query_idx]"
   ]
  },
  {
   "cell_type": "code",
   "execution_count": 61,
   "id": "48f3db33",
   "metadata": {},
   "outputs": [
    {
     "name": "stdout",
     "output_type": "stream",
     "text": [
      "56\n"
     ]
    },
    {
     "name": "stderr",
     "output_type": "stream",
     "text": [
      "/usr/local/lib/python3.8/dist-packages/sklearn/gaussian_process/_gpr.py:362: UserWarning: Predicted variances smaller than 0. Setting those variances to 0.\n",
      "  warnings.warn(\"Predicted variances smaller than 0. \"\n"
     ]
    }
   ],
   "source": [
    "# find ambiguous points\n",
    "idx,ambiguous_data=find_most_ambiguous(model,X_unk)"
   ]
  },
  {
   "cell_type": "code",
   "execution_count": 62,
   "id": "c0333ae3",
   "metadata": {},
   "outputs": [
    {
     "data": {
      "text/plain": [
       "expansion ratio                 7.427656\n",
       "corrected speed               143.980509\n",
       "ImpulseStage_CurrentStroke     10.590000\n",
       "Name: 56, dtype: float64"
      ]
     },
     "execution_count": 62,
     "metadata": {},
     "output_type": "execute_result"
    }
   ],
   "source": [
    "ambiguous_data"
   ]
  },
  {
   "cell_type": "code",
   "execution_count": 55,
   "id": "8071b95e",
   "metadata": {},
   "outputs": [],
   "source": [
    "# for range(100,1000) in x_pool unambiguous point is 56"
   ]
  },
  {
   "cell_type": "code",
   "execution_count": 69,
   "id": "2e627dc9",
   "metadata": {},
   "outputs": [],
   "source": [
    "X_unk1=X_unk.reset_index(drop=True)"
   ]
  },
  {
   "cell_type": "code",
   "execution_count": 71,
   "id": "b6061fcc",
   "metadata": {},
   "outputs": [
    {
     "data": {
      "text/plain": [
       "expansion ratio                 1.644108\n",
       "corrected speed               126.675307\n",
       "ImpulseStage_CurrentStroke     36.350000\n",
       "Name: 56, dtype: float64"
      ]
     },
     "execution_count": 71,
     "metadata": {},
     "output_type": "execute_result"
    }
   ],
   "source": [
    "X_unk1.iloc[56]"
   ]
  },
  {
   "cell_type": "code",
   "execution_count": null,
   "id": "ddadda60",
   "metadata": {},
   "outputs": [],
   "source": []
  }
 ],
 "metadata": {
  "kernelspec": {
   "display_name": "Python 3 (ipykernel)",
   "language": "python",
   "name": "python3"
  },
  "language_info": {
   "codemirror_mode": {
    "name": "ipython",
    "version": 3
   },
   "file_extension": ".py",
   "mimetype": "text/x-python",
   "name": "python",
   "nbconvert_exporter": "python",
   "pygments_lexer": "ipython3",
   "version": "3.8.10"
  },
  "varInspector": {
   "cols": {
    "lenName": 16,
    "lenType": 16,
    "lenVar": 40
   },
   "kernels_config": {
    "python": {
     "delete_cmd_postfix": "",
     "delete_cmd_prefix": "del ",
     "library": "var_list.py",
     "varRefreshCmd": "print(var_dic_list())"
    },
    "r": {
     "delete_cmd_postfix": ") ",
     "delete_cmd_prefix": "rm(",
     "library": "var_list.r",
     "varRefreshCmd": "cat(var_dic_list()) "
    }
   },
   "types_to_exclude": [
    "module",
    "function",
    "builtin_function_or_method",
    "instance",
    "_Feature"
   ],
   "window_display": false
  }
 },
 "nbformat": 4,
 "nbformat_minor": 5
}
