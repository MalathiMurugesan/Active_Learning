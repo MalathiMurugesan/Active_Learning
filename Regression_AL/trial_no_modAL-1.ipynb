{
 "cells": [
  {
   "cell_type": "code",
   "execution_count": 1,
   "id": "88a9df08",
   "metadata": {},
   "outputs": [],
   "source": [
    "import pandas as pd\n",
    "import os\n",
    "import numpy as np\n",
    "\n",
    "import matplotlib.pyplot as plt\n",
    "from sklearn.gaussian_process import GaussianProcessRegressor\n",
    "from sklearn.gaussian_process.kernels import WhiteKernel, RBF\n",
    "\n",
    "#from modAL.models import ActiveLearner\n",
    "\n",
    "from sklearn.model_selection import train_test_split\n",
    "from sklearn.metrics import r2_score,mean_squared_error\n",
    "import math\n",
    "\n",
    "%matplotlib inline"
   ]
  },
  {
   "cell_type": "code",
   "execution_count": 2,
   "id": "40022570",
   "metadata": {},
   "outputs": [
    {
     "data": {
      "text/plain": [
       "(7077, 6)"
      ]
     },
     "execution_count": 2,
     "metadata": {},
     "output_type": "execute_result"
    }
   ],
   "source": [
    "# cleaned version of the data after removing outliers and negative values\n",
    "path='/workspace/malathi/steam_turbine_stage_1_POC/notebooks/version_1/df_sorted.csv'\n",
    "data=pd.read_csv(path)\n",
    "data.shape"
   ]
  },
  {
   "cell_type": "code",
   "execution_count": 3,
   "id": "3ca52f7e",
   "metadata": {},
   "outputs": [],
   "source": [
    "INPUT_COLUMNS=[ 'expansion ratio','corrected speed','ImpulseStage_CurrentStroke']\n",
    "OUTPUT_COLUMNS=['ImpulseStage_Power', 'Impulse_Discharge_Temperature', 'corrected mass flow']"
   ]
  },
  {
   "cell_type": "code",
   "execution_count": 4,
   "id": "7652c581",
   "metadata": {},
   "outputs": [
    {
     "name": "stdout",
     "output_type": "stream",
     "text": [
      "(7077, 3) (7077,)\n"
     ]
    }
   ],
   "source": [
    "# predictions for 'Impulsestage_Power'\n",
    "X=data.drop(OUTPUT_COLUMNS,axis=1)\n",
    "y=data['ImpulseStage_Power']\n",
    "print(X.shape,y.shape)\n"
   ]
  },
  {
   "cell_type": "code",
   "execution_count": 6,
   "id": "1c58b9bd",
   "metadata": {},
   "outputs": [],
   "source": [
    "# XX=X.values.reshape(-1,3)\n",
    "# yy=y.values.reshape(-1,1)\n",
    "#print(XX.shape,yy.shape)"
   ]
  },
  {
   "cell_type": "code",
   "execution_count": 7,
   "id": "74abc50b",
   "metadata": {},
   "outputs": [],
   "source": [
    "X_pool, X_test, y_pool, y_test = train_test_split(X, y, test_size=0.2, random_state=1)\n",
    "#X_pool, X_test, y_pool, y_test = X_pool.reset_index(drop=True), X_test.reset_index(drop=True), y_pool.reset_index(drop=True), y_test.reset_index(drop=True)\n",
    "# random state 1 5 iterations\n",
    "# random state 2 20 iteration"
   ]
  },
  {
   "cell_type": "code",
   "execution_count": 8,
   "id": "9b409004",
   "metadata": {},
   "outputs": [],
   "source": [
    "X_pool_1=X_pool.copy()\n",
    "X_test_1=X_test.copy() \n",
    "y_pool_1=y_pool.copy()\n",
    "y_test_1=y_test.copy()"
   ]
  },
  {
   "cell_type": "code",
   "execution_count": 34,
   "id": "922b68a8",
   "metadata": {},
   "outputs": [],
   "source": [
    "X_pool, X_test, y_pool, y_test = X_pool.reset_index(drop=True), X_test.reset_index(drop=True), \\\n",
    "y_pool.reset_index(drop=True), y_test.reset_index(drop=True)"
   ]
  },
  {
   "cell_type": "code",
   "execution_count": 35,
   "id": "67181c41",
   "metadata": {},
   "outputs": [],
   "source": [
    "# take 100 points from the pool, train them\n",
    "train_idx=list(range(100))\n",
    "# keep extending this range to get more ambiguous points\n",
    "unknown_idx=list(range(100,2000))"
   ]
  },
  {
   "cell_type": "code",
   "execution_count": 36,
   "id": "07f34b2e",
   "metadata": {},
   "outputs": [],
   "source": [
    "X_train=X_pool.iloc[train_idx]\n",
    "y_train=y_pool.iloc[train_idx]"
   ]
  },
  {
   "cell_type": "code",
   "execution_count": 37,
   "id": "f2219c08",
   "metadata": {},
   "outputs": [],
   "source": [
    "X_unk = X_pool.iloc[unknown_idx]"
   ]
  },
  {
   "cell_type": "code",
   "execution_count": 38,
   "id": "c1838e97",
   "metadata": {},
   "outputs": [],
   "source": [
    "estimator=GaussianProcessRegressor()\n",
    "model=estimator.fit(X_train,y_train)"
   ]
  },
  {
   "cell_type": "code",
   "execution_count": 39,
   "id": "eeb96c0c",
   "metadata": {},
   "outputs": [],
   "source": [
    "def find_most_ambiguous(model,data):\n",
    "    _, std = model.predict(data, return_std=True)\n",
    "    query_idx = np.argmax(std)\n",
    "    print(query_idx)\n",
    "    return query_idx, X_pool.iloc[query_idx]"
   ]
  },
  {
   "cell_type": "code",
   "execution_count": 40,
   "id": "48f3db33",
   "metadata": {},
   "outputs": [
    {
     "name": "stdout",
     "output_type": "stream",
     "text": [
      "56\n"
     ]
    },
    {
     "name": "stderr",
     "output_type": "stream",
     "text": [
      "/usr/local/lib/python3.8/dist-packages/sklearn/gaussian_process/_gpr.py:362: UserWarning: Predicted variances smaller than 0. Setting those variances to 0.\n",
      "  warnings.warn(\"Predicted variances smaller than 0. \"\n"
     ]
    }
   ],
   "source": [
    "# find ambiguous points\n",
    "idx,ambiguous_data=find_most_ambiguous(model,X_unk)"
   ]
  },
  {
   "cell_type": "code",
   "execution_count": 41,
   "id": "3aee5e92",
   "metadata": {},
   "outputs": [
    {
     "data": {
      "text/plain": [
       "expansion ratio                 7.427656\n",
       "corrected speed               143.980509\n",
       "ImpulseStage_CurrentStroke     10.590000\n",
       "Name: 56, dtype: float64"
      ]
     },
     "execution_count": 41,
     "metadata": {},
     "output_type": "execute_result"
    }
   ],
   "source": [
    "X_pool.iloc[56]"
   ]
  },
  {
   "cell_type": "code",
   "execution_count": 42,
   "id": "c0333ae3",
   "metadata": {},
   "outputs": [
    {
     "data": {
      "text/plain": [
       "expansion ratio                 7.427656\n",
       "corrected speed               143.980509\n",
       "ImpulseStage_CurrentStroke     10.590000\n",
       "Name: 56, dtype: float64"
      ]
     },
     "execution_count": 42,
     "metadata": {},
     "output_type": "execute_result"
    }
   ],
   "source": [
    "ambiguous_data"
   ]
  },
  {
   "cell_type": "markdown",
   "id": "fc2f17ee",
   "metadata": {},
   "source": [
    "## Option 1\n",
    "\n",
    "### For these ambiguous points find out the labels throgh simulation using matlab code\n",
    "### Or through Reinforcement learning"
   ]
  },
  {
   "cell_type": "code",
   "execution_count": 55,
   "id": "8071b95e",
   "metadata": {},
   "outputs": [],
   "source": [
    "# for range(100,1000) in x_pool unambiguous point is 56"
   ]
  },
  {
   "cell_type": "code",
   "execution_count": 18,
   "id": "2e627dc9",
   "metadata": {},
   "outputs": [],
   "source": [
    "#X_unk1=X_unk.reset_index(drop=True)\n",
    "# dont do this Gives different results"
   ]
  },
  {
   "cell_type": "markdown",
   "id": "019ce979",
   "metadata": {},
   "source": [
    "# Option    2\n",
    "#### Include these points in the training set and again train them to get the best results"
   ]
  },
  {
   "cell_type": "code",
   "execution_count": 111,
   "id": "8ea5f229",
   "metadata": {},
   "outputs": [
    {
     "name": "stdout",
     "output_type": "stream",
     "text": [
      "100 100\n"
     ]
    }
   ],
   "source": [
    "print(len(X_train),len(y_train))"
   ]
  },
  {
   "cell_type": "code",
   "execution_count": 112,
   "id": "4e09ace4",
   "metadata": {},
   "outputs": [],
   "source": [
    "xx=X_train.copy()\n",
    "yy=y_train.copy()"
   ]
  },
  {
   "cell_type": "code",
   "execution_count": 113,
   "id": "a5be39ff",
   "metadata": {},
   "outputs": [],
   "source": [
    "xx=xx.append(X_pool.iloc[56])\n",
    "yy=yy.append(pd.Series(y_pool.iloc[56]))\n",
    "#yy.append(y_pool.iloc[56])"
   ]
  },
  {
   "cell_type": "code",
   "execution_count": 114,
   "id": "4da3a4f7",
   "metadata": {},
   "outputs": [],
   "source": [
    "xx=xx.reset_index(drop=True)\n",
    "yy=yy.reset_index(drop=True)"
   ]
  },
  {
   "cell_type": "code",
   "execution_count": 115,
   "id": "22dd74a0",
   "metadata": {},
   "outputs": [],
   "source": [
    "X_pool.drop(X_pool.index[56],inplace=True)\n",
    "y_pool.drop(X_pool.index[56],inplace=True)\n",
    "\n",
    "X_pool=X_pool.reset_index(drop=True)\n",
    "y_pool=y_pool.reset_index(drop=True)"
   ]
  },
  {
   "cell_type": "code",
   "execution_count": 116,
   "id": "c9b785f8",
   "metadata": {},
   "outputs": [
    {
     "data": {
      "text/html": [
       "<div>\n",
       "<style scoped>\n",
       "    .dataframe tbody tr th:only-of-type {\n",
       "        vertical-align: middle;\n",
       "    }\n",
       "\n",
       "    .dataframe tbody tr th {\n",
       "        vertical-align: top;\n",
       "    }\n",
       "\n",
       "    .dataframe thead th {\n",
       "        text-align: right;\n",
       "    }\n",
       "</style>\n",
       "<table border=\"1\" class=\"dataframe\">\n",
       "  <thead>\n",
       "    <tr style=\"text-align: right;\">\n",
       "      <th></th>\n",
       "      <th>expansion ratio</th>\n",
       "      <th>corrected speed</th>\n",
       "      <th>ImpulseStage_CurrentStroke</th>\n",
       "    </tr>\n",
       "  </thead>\n",
       "  <tbody>\n",
       "    <tr>\n",
       "      <th>5654</th>\n",
       "      <td>4.432234</td>\n",
       "      <td>133.215052</td>\n",
       "      <td>16.31</td>\n",
       "    </tr>\n",
       "    <tr>\n",
       "      <th>5655</th>\n",
       "      <td>1.631742</td>\n",
       "      <td>135.091320</td>\n",
       "      <td>36.35</td>\n",
       "    </tr>\n",
       "    <tr>\n",
       "      <th>5656</th>\n",
       "      <td>2.116215</td>\n",
       "      <td>134.163020</td>\n",
       "      <td>30.62</td>\n",
       "    </tr>\n",
       "    <tr>\n",
       "      <th>5657</th>\n",
       "      <td>7.264670</td>\n",
       "      <td>119.298136</td>\n",
       "      <td>10.59</td>\n",
       "    </tr>\n",
       "    <tr>\n",
       "      <th>5658</th>\n",
       "      <td>1.621527</td>\n",
       "      <td>141.738218</td>\n",
       "      <td>36.35</td>\n",
       "    </tr>\n",
       "  </tbody>\n",
       "</table>\n",
       "</div>"
      ],
      "text/plain": [
       "      expansion ratio  corrected speed  ImpulseStage_CurrentStroke\n",
       "5654         4.432234       133.215052                       16.31\n",
       "5655         1.631742       135.091320                       36.35\n",
       "5656         2.116215       134.163020                       30.62\n",
       "5657         7.264670       119.298136                       10.59\n",
       "5658         1.621527       141.738218                       36.35"
      ]
     },
     "execution_count": 116,
     "metadata": {},
     "output_type": "execute_result"
    }
   ],
   "source": [
    "X_pool.tail()"
   ]
  },
  {
   "cell_type": "code",
   "execution_count": 117,
   "id": "9068f96c",
   "metadata": {},
   "outputs": [
    {
     "name": "stdout",
     "output_type": "stream",
     "text": [
      "(5659, 3) (5659,)\n"
     ]
    }
   ],
   "source": [
    "print(X_pool.shape,y_pool.shape)"
   ]
  },
  {
   "cell_type": "code",
   "execution_count": null,
   "id": "bced0857",
   "metadata": {},
   "outputs": [],
   "source": [
    "# train them again"
   ]
  },
  {
   "cell_type": "code",
   "execution_count": 118,
   "id": "5066f144",
   "metadata": {},
   "outputs": [
    {
     "data": {
      "text/plain": [
       "101"
      ]
     },
     "execution_count": 118,
     "metadata": {},
     "output_type": "execute_result"
    }
   ],
   "source": [
    "len(xx)"
   ]
  },
  {
   "cell_type": "code",
   "execution_count": 119,
   "id": "45e33bc1",
   "metadata": {},
   "outputs": [],
   "source": [
    "# take 101 points from the pool, train them\n",
    "train_idx=list(range(102))\n",
    "# keep extending this range to get more ambiguous points\n",
    "unknown_idx=list(range(102,2000))"
   ]
  },
  {
   "cell_type": "code",
   "execution_count": 120,
   "id": "43583c08",
   "metadata": {},
   "outputs": [
    {
     "name": "stdout",
     "output_type": "stream",
     "text": [
      "52\n"
     ]
    },
    {
     "name": "stderr",
     "output_type": "stream",
     "text": [
      "/usr/local/lib/python3.8/dist-packages/sklearn/gaussian_process/_gpr.py:362: UserWarning: Predicted variances smaller than 0. Setting those variances to 0.\n",
      "  warnings.warn(\"Predicted variances smaller than 0. \"\n"
     ]
    }
   ],
   "source": [
    "# X_train=X_pool.iloc[train_idx]\n",
    "# y_train=y_pool.iloc[train_idx]\n",
    "\n",
    "X_train_new=xx.copy()\n",
    "y_train_new=yy.copy()\n",
    "\n",
    "X_unk = X_pool.iloc[unknown_idx]\n",
    "\n",
    "estimator=GaussianProcessRegressor()\n",
    "model=estimator.fit(X_train_new,y_train_new)\n",
    "\n",
    "def find_most_ambiguous(model,data):\n",
    "    _, std = model.predict(data, return_std=True)\n",
    "    query_idx = np.argmax(std)\n",
    "    print(query_idx)\n",
    "    return query_idx, X_pool.iloc[query_idx]\n",
    "\n",
    "# find ambiguous points\n",
    "idx,ambiguous_data=find_most_ambiguous(model,X_unk)"
   ]
  },
  {
   "cell_type": "code",
   "execution_count": 124,
   "id": "e1c77827",
   "metadata": {},
   "outputs": [
    {
     "data": {
      "text/plain": [
       "expansion ratio                 4.427210\n",
       "corrected speed               132.495649\n",
       "ImpulseStage_CurrentStroke     16.310000\n",
       "Name: 52, dtype: float64"
      ]
     },
     "execution_count": 124,
     "metadata": {},
     "output_type": "execute_result"
    }
   ],
   "source": [
    "X_pool.iloc[52]"
   ]
  },
  {
   "cell_type": "code",
   "execution_count": 125,
   "id": "703ae92b",
   "metadata": {},
   "outputs": [
    {
     "data": {
      "text/plain": [
       "713.5114746"
      ]
     },
     "execution_count": 125,
     "metadata": {},
     "output_type": "execute_result"
    }
   ],
   "source": [
    "y_pool.iloc[52]"
   ]
  },
  {
   "cell_type": "code",
   "execution_count": 126,
   "id": "af69951d",
   "metadata": {},
   "outputs": [
    {
     "name": "stdout",
     "output_type": "stream",
     "text": [
      "103 103\n",
      "5658 5658\n"
     ]
    }
   ],
   "source": [
    "X_train_new=X_train_new.append(X_pool.iloc[52])\n",
    "y_train_new=y_train_new.append(pd.Series(y_pool.iloc[52]))\n",
    "\n",
    "\n",
    "\n",
    "X_train_new=X_train_new.reset_index(drop=True)\n",
    "y_train_new=y_train_new.reset_index(drop=True)\n",
    "print(len(X_train_new),len(y_train_new))\n",
    "\n",
    "X_pool.drop(X_pool.index[52],inplace=True)\n",
    "y_pool.drop(X_pool.index[52],inplace=True)\n",
    "\n",
    "X_pool=X_pool.reset_index(drop=True)\n",
    "y_pool=y_pool.reset_index(drop=True)\n",
    "\n",
    "\n",
    "print(len(X_pool),len(y_pool))"
   ]
  },
  {
   "cell_type": "code",
   "execution_count": 132,
   "id": "b2542ad7",
   "metadata": {},
   "outputs": [
    {
     "name": "stdout",
     "output_type": "stream",
     "text": [
      "0.9999999999462106\n",
      "44\n"
     ]
    }
   ],
   "source": [
    "# train them again\n",
    "\n",
    "# take 101 points from the pool, train them\n",
    "train_idx=list(range(104))\n",
    "# keep extending this range to get more ambiguous points\n",
    "unknown_idx=list(range(5600,5657))\n",
    "X_unk = X_pool.iloc[unknown_idx]\n",
    "\n",
    "estimator=GaussianProcessRegressor()\n",
    "model=estimator.fit(X_train_new,y_train_new)\n",
    "\n",
    "def find_most_ambiguous(model,data):\n",
    "    _, std = model.predict(data, return_std=True)\n",
    "    #print(std)\n",
    "    \n",
    "    query_idx = np.argmax(std)\n",
    "    print(max(std))\n",
    "    \n",
    "    print(query_idx)\n",
    "    return query_idx, X_pool.iloc[query_idx]\n",
    "\n",
    "# find ambiguous points\n",
    "idx,ambiguous_data=find_most_ambiguous(model,X_unk)"
   ]
  },
  {
   "cell_type": "code",
   "execution_count": null,
   "id": "2c9e9688",
   "metadata": {},
   "outputs": [],
   "source": []
  },
  {
   "cell_type": "code",
   "execution_count": null,
   "id": "3d404355",
   "metadata": {},
   "outputs": [],
   "source": []
  },
  {
   "cell_type": "code",
   "execution_count": null,
   "id": "410f41e6",
   "metadata": {},
   "outputs": [],
   "source": []
  },
  {
   "cell_type": "code",
   "execution_count": null,
   "id": "7a58bd00",
   "metadata": {},
   "outputs": [],
   "source": []
  },
  {
   "cell_type": "code",
   "execution_count": null,
   "id": "a8f6c754",
   "metadata": {},
   "outputs": [],
   "source": []
  },
  {
   "cell_type": "code",
   "execution_count": null,
   "id": "5c4b0624",
   "metadata": {},
   "outputs": [],
   "source": []
  },
  {
   "cell_type": "markdown",
   "id": "3a9728f2",
   "metadata": {},
   "source": [
    "## Ignore these cells "
   ]
  },
  {
   "cell_type": "code",
   "execution_count": 22,
   "id": "53614d76",
   "metadata": {},
   "outputs": [],
   "source": [
    "X_train=X_pool.iloc[56]"
   ]
  },
  {
   "cell_type": "code",
   "execution_count": 24,
   "id": "573b91d4",
   "metadata": {},
   "outputs": [
    {
     "data": {
      "text/plain": [
       "expansion ratio                 7.427656\n",
       "corrected speed               143.980509\n",
       "ImpulseStage_CurrentStroke     10.590000\n",
       "Name: 56, dtype: float64"
      ]
     },
     "execution_count": 24,
     "metadata": {},
     "output_type": "execute_result"
    }
   ],
   "source": [
    "X_train.head(5)"
   ]
  },
  {
   "cell_type": "code",
   "execution_count": 25,
   "id": "a3d9e865",
   "metadata": {},
   "outputs": [],
   "source": [
    "# Creating the first Dataframe using dictionary\n",
    "df1 = df = pd.DataFrame({\"a\":[1, 2, 3, 4],\n",
    "                         \"b\":[5, 6, 7, 8]})\n",
    "  \n",
    "# Creating the Second Dataframe using dictionary\n",
    "df2 = pd.DataFrame({\"a\":[1, 2, 3],\n",
    "                    \"b\":[5, 6, 7]})"
   ]
  },
  {
   "cell_type": "code",
   "execution_count": 26,
   "id": "5ed7d237",
   "metadata": {},
   "outputs": [
    {
     "data": {
      "text/html": [
       "<div>\n",
       "<style scoped>\n",
       "    .dataframe tbody tr th:only-of-type {\n",
       "        vertical-align: middle;\n",
       "    }\n",
       "\n",
       "    .dataframe tbody tr th {\n",
       "        vertical-align: top;\n",
       "    }\n",
       "\n",
       "    .dataframe thead th {\n",
       "        text-align: right;\n",
       "    }\n",
       "</style>\n",
       "<table border=\"1\" class=\"dataframe\">\n",
       "  <thead>\n",
       "    <tr style=\"text-align: right;\">\n",
       "      <th></th>\n",
       "      <th>a</th>\n",
       "      <th>b</th>\n",
       "    </tr>\n",
       "  </thead>\n",
       "  <tbody>\n",
       "    <tr>\n",
       "      <th>0</th>\n",
       "      <td>1</td>\n",
       "      <td>5</td>\n",
       "    </tr>\n",
       "    <tr>\n",
       "      <th>1</th>\n",
       "      <td>2</td>\n",
       "      <td>6</td>\n",
       "    </tr>\n",
       "    <tr>\n",
       "      <th>2</th>\n",
       "      <td>3</td>\n",
       "      <td>7</td>\n",
       "    </tr>\n",
       "    <tr>\n",
       "      <th>3</th>\n",
       "      <td>4</td>\n",
       "      <td>8</td>\n",
       "    </tr>\n",
       "  </tbody>\n",
       "</table>\n",
       "</div>"
      ],
      "text/plain": [
       "   a  b\n",
       "0  1  5\n",
       "1  2  6\n",
       "2  3  7\n",
       "3  4  8"
      ]
     },
     "execution_count": 26,
     "metadata": {},
     "output_type": "execute_result"
    }
   ],
   "source": [
    "df1"
   ]
  },
  {
   "cell_type": "code",
   "execution_count": 27,
   "id": "4b4a8caa",
   "metadata": {},
   "outputs": [
    {
     "data": {
      "text/html": [
       "<div>\n",
       "<style scoped>\n",
       "    .dataframe tbody tr th:only-of-type {\n",
       "        vertical-align: middle;\n",
       "    }\n",
       "\n",
       "    .dataframe tbody tr th {\n",
       "        vertical-align: top;\n",
       "    }\n",
       "\n",
       "    .dataframe thead th {\n",
       "        text-align: right;\n",
       "    }\n",
       "</style>\n",
       "<table border=\"1\" class=\"dataframe\">\n",
       "  <thead>\n",
       "    <tr style=\"text-align: right;\">\n",
       "      <th></th>\n",
       "      <th>a</th>\n",
       "      <th>b</th>\n",
       "    </tr>\n",
       "  </thead>\n",
       "  <tbody>\n",
       "    <tr>\n",
       "      <th>0</th>\n",
       "      <td>1</td>\n",
       "      <td>5</td>\n",
       "    </tr>\n",
       "    <tr>\n",
       "      <th>1</th>\n",
       "      <td>2</td>\n",
       "      <td>6</td>\n",
       "    </tr>\n",
       "    <tr>\n",
       "      <th>2</th>\n",
       "      <td>3</td>\n",
       "      <td>7</td>\n",
       "    </tr>\n",
       "  </tbody>\n",
       "</table>\n",
       "</div>"
      ],
      "text/plain": [
       "   a  b\n",
       "0  1  5\n",
       "1  2  6\n",
       "2  3  7"
      ]
     },
     "execution_count": 27,
     "metadata": {},
     "output_type": "execute_result"
    }
   ],
   "source": [
    "df2"
   ]
  },
  {
   "cell_type": "code",
   "execution_count": 30,
   "id": "45507710",
   "metadata": {},
   "outputs": [
    {
     "data": {
      "text/html": [
       "<div>\n",
       "<style scoped>\n",
       "    .dataframe tbody tr th:only-of-type {\n",
       "        vertical-align: middle;\n",
       "    }\n",
       "\n",
       "    .dataframe tbody tr th {\n",
       "        vertical-align: top;\n",
       "    }\n",
       "\n",
       "    .dataframe thead th {\n",
       "        text-align: right;\n",
       "    }\n",
       "</style>\n",
       "<table border=\"1\" class=\"dataframe\">\n",
       "  <thead>\n",
       "    <tr style=\"text-align: right;\">\n",
       "      <th></th>\n",
       "      <th>a</th>\n",
       "      <th>b</th>\n",
       "    </tr>\n",
       "  </thead>\n",
       "  <tbody>\n",
       "    <tr>\n",
       "      <th>0</th>\n",
       "      <td>1</td>\n",
       "      <td>5</td>\n",
       "    </tr>\n",
       "    <tr>\n",
       "      <th>1</th>\n",
       "      <td>2</td>\n",
       "      <td>6</td>\n",
       "    </tr>\n",
       "    <tr>\n",
       "      <th>2</th>\n",
       "      <td>3</td>\n",
       "      <td>7</td>\n",
       "    </tr>\n",
       "    <tr>\n",
       "      <th>3</th>\n",
       "      <td>4</td>\n",
       "      <td>8</td>\n",
       "    </tr>\n",
       "    <tr>\n",
       "      <th>4</th>\n",
       "      <td>3</td>\n",
       "      <td>7</td>\n",
       "    </tr>\n",
       "  </tbody>\n",
       "</table>\n",
       "</div>"
      ],
      "text/plain": [
       "   a  b\n",
       "0  1  5\n",
       "1  2  6\n",
       "2  3  7\n",
       "3  4  8\n",
       "4  3  7"
      ]
     },
     "execution_count": 30,
     "metadata": {},
     "output_type": "execute_result"
    }
   ],
   "source": [
    "df1.append(df2.iloc[2],ignore_index=True)"
   ]
  },
  {
   "cell_type": "code",
   "execution_count": 32,
   "id": "2d7891ef",
   "metadata": {},
   "outputs": [],
   "source": [
    "df2.drop(df2.index[2],inplace=True)"
   ]
  },
  {
   "cell_type": "code",
   "execution_count": 63,
   "id": "97eaa7f1",
   "metadata": {},
   "outputs": [
    {
     "data": {
      "text/html": [
       "<div>\n",
       "<style scoped>\n",
       "    .dataframe tbody tr th:only-of-type {\n",
       "        vertical-align: middle;\n",
       "    }\n",
       "\n",
       "    .dataframe tbody tr th {\n",
       "        vertical-align: top;\n",
       "    }\n",
       "\n",
       "    .dataframe thead th {\n",
       "        text-align: right;\n",
       "    }\n",
       "</style>\n",
       "<table border=\"1\" class=\"dataframe\">\n",
       "  <thead>\n",
       "    <tr style=\"text-align: right;\">\n",
       "      <th></th>\n",
       "      <th>a</th>\n",
       "      <th>b</th>\n",
       "    </tr>\n",
       "  </thead>\n",
       "  <tbody>\n",
       "    <tr>\n",
       "      <th>0</th>\n",
       "      <td>1</td>\n",
       "      <td>5</td>\n",
       "    </tr>\n",
       "    <tr>\n",
       "      <th>1</th>\n",
       "      <td>2</td>\n",
       "      <td>6</td>\n",
       "    </tr>\n",
       "  </tbody>\n",
       "</table>\n",
       "</div>"
      ],
      "text/plain": [
       "   a  b\n",
       "0  1  5\n",
       "1  2  6"
      ]
     },
     "execution_count": 63,
     "metadata": {},
     "output_type": "execute_result"
    }
   ],
   "source": [
    "df2"
   ]
  },
  {
   "cell_type": "code",
   "execution_count": null,
   "id": "7bef77db",
   "metadata": {},
   "outputs": [],
   "source": []
  }
 ],
 "metadata": {
  "kernelspec": {
   "display_name": "Python 3 (ipykernel)",
   "language": "python",
   "name": "python3"
  },
  "language_info": {
   "codemirror_mode": {
    "name": "ipython",
    "version": 3
   },
   "file_extension": ".py",
   "mimetype": "text/x-python",
   "name": "python",
   "nbconvert_exporter": "python",
   "pygments_lexer": "ipython3",
   "version": "3.8.10"
  },
  "varInspector": {
   "cols": {
    "lenName": 16,
    "lenType": 16,
    "lenVar": 40
   },
   "kernels_config": {
    "python": {
     "delete_cmd_postfix": "",
     "delete_cmd_prefix": "del ",
     "library": "var_list.py",
     "varRefreshCmd": "print(var_dic_list())"
    },
    "r": {
     "delete_cmd_postfix": ") ",
     "delete_cmd_prefix": "rm(",
     "library": "var_list.r",
     "varRefreshCmd": "cat(var_dic_list()) "
    }
   },
   "types_to_exclude": [
    "module",
    "function",
    "builtin_function_or_method",
    "instance",
    "_Feature"
   ],
   "window_display": false
  }
 },
 "nbformat": 4,
 "nbformat_minor": 5
}
