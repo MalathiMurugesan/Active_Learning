{
 "cells": [
  {
   "cell_type": "code",
   "execution_count": 1,
   "id": "c5608f29",
   "metadata": {},
   "outputs": [],
   "source": [
    "import pandas as pd\n",
    "import os\n",
    "import numpy as np\n",
    "\n",
    "import matplotlib.pyplot as plt\n",
    "from sklearn.gaussian_process import GaussianProcessRegressor\n",
    "from sklearn.gaussian_process.kernels import WhiteKernel, RBF\n",
    "\n",
    "from modAL.models import ActiveLearner\n",
    "\n",
    "from sklearn.model_selection import train_test_split\n",
    "from sklearn.metrics import r2_score,mean_squared_error\n",
    "import math\n",
    "\n",
    "%matplotlib inline"
   ]
  },
  {
   "cell_type": "code",
   "execution_count": 2,
   "id": "9d2b8014",
   "metadata": {},
   "outputs": [
    {
     "data": {
      "text/plain": [
       "(7077, 6)"
      ]
     },
     "execution_count": 2,
     "metadata": {},
     "output_type": "execute_result"
    }
   ],
   "source": [
    "# cleaned version of the data after removing outliers and negative values\n",
    "path='/workspace/malathi/steam_turbine_stage_1_POC/notebooks/version_1/df_sorted.csv'\n",
    "data=pd.read_csv(path)\n",
    "data.shape"
   ]
  },
  {
   "cell_type": "code",
   "execution_count": 3,
   "id": "70009c79",
   "metadata": {},
   "outputs": [],
   "source": [
    "INPUT_COLUMNS=[ 'expansion ratio','corrected speed','ImpulseStage_CurrentStroke']\n",
    "OUTPUT_COLUMNS=['ImpulseStage_Power', 'Impulse_Discharge_Temperature', 'corrected mass flow']"
   ]
  },
  {
   "cell_type": "code",
   "execution_count": 4,
   "id": "fa26ede9",
   "metadata": {},
   "outputs": [
    {
     "data": {
      "text/html": [
       "<div>\n",
       "<style scoped>\n",
       "    .dataframe tbody tr th:only-of-type {\n",
       "        vertical-align: middle;\n",
       "    }\n",
       "\n",
       "    .dataframe tbody tr th {\n",
       "        vertical-align: top;\n",
       "    }\n",
       "\n",
       "    .dataframe thead th {\n",
       "        text-align: right;\n",
       "    }\n",
       "</style>\n",
       "<table border=\"1\" class=\"dataframe\">\n",
       "  <thead>\n",
       "    <tr style=\"text-align: right;\">\n",
       "      <th></th>\n",
       "      <th>expansion ratio</th>\n",
       "      <th>corrected speed</th>\n",
       "      <th>ImpulseStage_CurrentStroke</th>\n",
       "      <th>ImpulseStage_Power</th>\n",
       "      <th>Impulse_Discharge_Temperature</th>\n",
       "      <th>corrected mass flow</th>\n",
       "    </tr>\n",
       "  </thead>\n",
       "  <tbody>\n",
       "    <tr>\n",
       "      <th>1524</th>\n",
       "      <td>3.717742</td>\n",
       "      <td>135.091320</td>\n",
       "      <td>19.17</td>\n",
       "      <td>911.921387</td>\n",
       "      <td>373.927277</td>\n",
       "      <td>6.374565</td>\n",
       "    </tr>\n",
       "    <tr>\n",
       "      <th>723</th>\n",
       "      <td>5.642181</td>\n",
       "      <td>156.321695</td>\n",
       "      <td>13.45</td>\n",
       "      <td>503.988678</td>\n",
       "      <td>235.739029</td>\n",
       "      <td>4.039479</td>\n",
       "    </tr>\n",
       "    <tr>\n",
       "      <th>6324</th>\n",
       "      <td>1.353807</td>\n",
       "      <td>145.151337</td>\n",
       "      <td>47.79</td>\n",
       "      <td>1716.999023</td>\n",
       "      <td>381.965363</td>\n",
       "      <td>18.769650</td>\n",
       "    </tr>\n",
       "    <tr>\n",
       "      <th>6017</th>\n",
       "      <td>1.381020</td>\n",
       "      <td>137.854979</td>\n",
       "      <td>44.93</td>\n",
       "      <td>1675.470459</td>\n",
       "      <td>359.122345</td>\n",
       "      <td>18.609456</td>\n",
       "    </tr>\n",
       "    <tr>\n",
       "      <th>5446</th>\n",
       "      <td>1.621614</td>\n",
       "      <td>141.738218</td>\n",
       "      <td>36.35</td>\n",
       "      <td>1823.536255</td>\n",
       "      <td>347.623871</td>\n",
       "      <td>15.764721</td>\n",
       "    </tr>\n",
       "  </tbody>\n",
       "</table>\n",
       "</div>"
      ],
      "text/plain": [
       "      expansion ratio  corrected speed  ImpulseStage_CurrentStroke  \\\n",
       "1524         3.717742       135.091320                       19.17   \n",
       "723          5.642181       156.321695                       13.45   \n",
       "6324         1.353807       145.151337                       47.79   \n",
       "6017         1.381020       137.854979                       44.93   \n",
       "5446         1.621614       141.738218                       36.35   \n",
       "\n",
       "      ImpulseStage_Power  Impulse_Discharge_Temperature  corrected mass flow  \n",
       "1524          911.921387                     373.927277             6.374565  \n",
       "723           503.988678                     235.739029             4.039479  \n",
       "6324         1716.999023                     381.965363            18.769650  \n",
       "6017         1675.470459                     359.122345            18.609456  \n",
       "5446         1823.536255                     347.623871            15.764721  "
      ]
     },
     "execution_count": 4,
     "metadata": {},
     "output_type": "execute_result"
    }
   ],
   "source": [
    "data.sample(5)"
   ]
  },
  {
   "cell_type": "code",
   "execution_count": 5,
   "id": "752520a3",
   "metadata": {},
   "outputs": [
    {
     "name": "stdout",
     "output_type": "stream",
     "text": [
      "(7077, 3) (7077,)\n"
     ]
    }
   ],
   "source": [
    "# predictions for 'Impulsestage_Power'\n",
    "X=data.drop(OUTPUT_COLUMNS,axis=1)\n",
    "y=data['ImpulseStage_Power']\n",
    "print(X.shape,y.shape)\n"
   ]
  },
  {
   "cell_type": "code",
   "execution_count": 17,
   "id": "716afddf",
   "metadata": {},
   "outputs": [
    {
     "name": "stdout",
     "output_type": "stream",
     "text": [
      "(7077, 3) (7077, 1)\n"
     ]
    }
   ],
   "source": [
    "XX=X.values.reshape(-1,3)\n",
    "yy=y.values.reshape(-1,1)\n",
    "print(XX.shape,yy.shape)"
   ]
  },
  {
   "cell_type": "code",
   "execution_count": 18,
   "id": "020844fc",
   "metadata": {},
   "outputs": [
    {
     "name": "stdout",
     "output_type": "stream",
     "text": [
      "(1769, 3) (1769, 1) (5308, 3) (5308, 1)\n"
     ]
    }
   ],
   "source": [
    "train_x,test_x,train_y,test_y = train_test_split(XX,yy,test_size=0.75,random_state=999)\n",
    "print(train_x.shape,train_y.shape,test_x.shape,test_y.shape)"
   ]
  },
  {
   "cell_type": "code",
   "execution_count": 19,
   "id": "a58aa07c",
   "metadata": {},
   "outputs": [],
   "source": [
    "def GP_regression_std(regressor, data):\n",
    "    _, std = regressor.predict(data, return_std=True)\n",
    "    query_idx = np.argmax(std)\n",
    "    return query_idx, data[query_idx]"
   ]
  },
  {
   "cell_type": "code",
   "execution_count": 20,
   "id": "ebb8f94c",
   "metadata": {},
   "outputs": [],
   "source": [
    "n_initial=250\n",
    "initial_idx=np.random.choice(range(len(XX)),size=n_initial,replace=False)\n",
    "X_training,y_training = XX[initial_idx],yy[initial_idx]"
   ]
  },
  {
   "cell_type": "code",
   "execution_count": 34,
   "id": "a0b35112",
   "metadata": {},
   "outputs": [],
   "source": [
    "#Kernel # not added noise here lower bound=1e-3  upper bound = 1e1\n",
    "#ConvergenceWarning: The optimal value found for dimension 0 of parameter\n",
    "#length_scale is close to the specified lower bound 0.1.\n",
    "#Decreasing the bound and calling fit again may find a better value.\n",
    "#\n",
    "# decreasing the bound causes convergence warning\n",
    "# need to scale the variables \n",
    "kernel = RBF(length_scale=1.0, length_scale_bounds=(1e-2,1e1))\n",
    "regressor = ActiveLearner(\n",
    "            estimator=GaussianProcessRegressor(kernel=kernel),\n",
    "            query_strategy=GP_regression_std,\n",
    "            X_training = X_training, y_training = y_training\n",
    "           )"
   ]
  },
  {
   "cell_type": "code",
   "execution_count": 35,
   "id": "baedcfd2",
   "metadata": {},
   "outputs": [],
   "source": [
    "y_pre,y_std = regressor.predict(test_x,return_std=True)"
   ]
  },
  {
   "cell_type": "code",
   "execution_count": 41,
   "id": "56f2f1ef",
   "metadata": {},
   "outputs": [
    {
     "data": {
      "text/plain": [
       "Text(0, 0.5, 'Predicted')"
      ]
     },
     "execution_count": 41,
     "metadata": {},
     "output_type": "execute_result"
    },
    {
     "data": {
      "image/png": "[encoded data removed]",
      "text/plain": [
       "<Figure size 864x360 with 1 Axes>"
      ]
     },
     "metadata": {
      "needs_background": "light"
     },
     "output_type": "display_data"
    }
   ],
   "source": [
    "import matplotlib.pyplot as plt\n",
    "plt.figure(figsize=(12,5))\n",
    "plt.errorbar(test_y, y_pre, yerr=y_std, fmt='o')\n",
    "plt.title('Gaussian process regression')\n",
    "plt.xlabel('Actual')\n",
    "plt.ylabel('Predicted')"
   ]
  },
  {
   "cell_type": "code",
   "execution_count": 36,
   "id": "bd41068b",
   "metadata": {},
   "outputs": [
    {
     "data": {
      "text/plain": [
       "array([[0.00000000e+000],\n",
       "       [2.49086584e+002],\n",
       "       [3.78912359e-276],\n",
       "       [1.83000613e-235],\n",
       "       [0.00000000e+000]])"
      ]
     },
     "execution_count": 36,
     "metadata": {},
     "output_type": "execute_result"
    }
   ],
   "source": [
    "#bug\n",
    "y_pre[0:5]"
   ]
  },
  {
   "cell_type": "code",
   "execution_count": 37,
   "id": "65bd4817",
   "metadata": {},
   "outputs": [
    {
     "data": {
      "text/plain": [
       "array([1.        , 0.99014738, 1.        , 1.        , 1.        ])"
      ]
     },
     "execution_count": 37,
     "metadata": {},
     "output_type": "execute_result"
    }
   ],
   "source": [
    "y_std[0:5]"
   ]
  },
  {
   "cell_type": "code",
   "execution_count": 24,
   "id": "44b2dbb4",
   "metadata": {},
   "outputs": [],
   "source": [
    "XXX=XX.copy()\n",
    "yyy=yy.copy()"
   ]
  },
  {
   "cell_type": "code",
   "execution_count": 38,
   "id": "7ad31246",
   "metadata": {},
   "outputs": [],
   "source": [
    "# Apply query strategy in Active Learning\n",
    "#\n",
    "n_queries = 25\n",
    "for idx in range(n_queries):\n",
    "    query_idx, query_instance = regressor.query(XX)\n",
    "    #print(query_idx,query_instance)\n",
    "    regressor.teach(XX[query_idx].reshape(1,-1),yy[query_idx].reshape(-1,1))"
   ]
  },
  {
   "cell_type": "code",
   "execution_count": null,
   "id": "9532bcd0",
   "metadata": {},
   "outputs": [],
   "source": [
    "y_pred_final,y_std_final = regressor.predict(test_x, return_std = True)"
   ]
  },
  {
   "cell_type": "code",
   "execution_count": null,
   "id": "ae78082f",
   "metadata": {},
   "outputs": [],
   "source": [
    "y_pred_final[0:10]"
   ]
  },
  {
   "cell_type": "code",
   "execution_count": null,
   "id": "de5d127e",
   "metadata": {},
   "outputs": [],
   "source": [
    "y_std_final[0:10]"
   ]
  },
  {
   "cell_type": "code",
   "execution_count": null,
   "id": "8fe4258e",
   "metadata": {},
   "outputs": [],
   "source": [
    "yy_pred_final,yy_std_final=y_pred_final.ravel(),y_std_final.ravel() "
   ]
  },
  {
   "cell_type": "code",
   "execution_count": null,
   "id": "a2a39496",
   "metadata": {},
   "outputs": [],
   "source": []
  },
  {
   "cell_type": "code",
   "execution_count": 43,
   "id": "0f23c736",
   "metadata": {},
   "outputs": [
    {
     "data": {
      "text/plain": [
       "Text(0, 0.5, 'Predicted')"
      ]
     },
     "execution_count": 43,
     "metadata": {},
     "output_type": "execute_result"
    },
    {
     "data": {
      "image/png": "[encoded data removed]",
      "text/plain": [
       "<Figure size 864x360 with 1 Axes>"
      ]
     },
     "metadata": {
      "needs_background": "light"
     },
     "output_type": "display_data"
    }
   ],
   "source": [
    "import matplotlib.pyplot as plt\n",
    "plt.figure(figsize=(12,5))\n",
    "plt.errorbar(test_y, yy_pred_final, yerr=yy_std_final, fmt='o')\n",
    "plt.title('Gaussian process regression')\n",
    "plt.xlabel('Actual')\n",
    "plt.ylabel('Predicted')"
   ]
  },
  {
   "cell_type": "code",
   "execution_count": null,
   "id": "bfd53524",
   "metadata": {},
   "outputs": [],
   "source": [
    "# Scale the variables"
   ]
  },
  {
   "cell_type": "code",
   "execution_count": null,
   "id": "4043b855",
   "metadata": {},
   "outputs": [],
   "source": [
    "from sklearn.preprocessing import MinMaxScaler\n",
    "scaler = MinMaxScaler()\n",
    "#  fit  the scaler to the train set\n",
    "scaler.fit(X_train[INPUT_C]) \n",
    "# transform the train and test set\n",
    "X_train[INPUT_C] = scaler.transform(X_train[INPUT_C])\n",
    "X_test[INPUT_C] = scaler.transform(X_test[INPUT_C])"
   ]
  },
  {
   "cell_type": "code",
   "execution_count": null,
   "id": "5c6077f1",
   "metadata": {},
   "outputs": [],
   "source": []
  }
 ],
 "metadata": {
  "kernelspec": {
   "display_name": "Python 3 (ipykernel)",
   "language": "python",
   "name": "python3"
  },
  "language_info": {
   "codemirror_mode": {
    "name": "ipython",
    "version": 3
   },
   "file_extension": ".py",
   "mimetype": "text/x-python",
   "name": "python",
   "nbconvert_exporter": "python",
   "pygments_lexer": "ipython3",
   "version": "3.8.10"
  },
  "toc": {
   "base_numbering": 1,
   "nav_menu": {},
   "number_sections": true,
   "sideBar": true,
   "skip_h1_title": false,
   "title_cell": "Table of Contents",
   "title_sidebar": "Contents",
   "toc_cell": false,
   "toc_position": {},
   "toc_section_display": true,
   "toc_window_display": false
  },
  "varInspector": {
   "cols": {
    "lenName": 16,
    "lenType": 16,
    "lenVar": 40
   },
   "kernels_config": {
    "python": {
     "delete_cmd_postfix": "",
     "delete_cmd_prefix": "del ",
     "library": "var_list.py",
     "varRefreshCmd": "print(var_dic_list())"
    },
    "r": {
     "delete_cmd_postfix": ") ",
     "delete_cmd_prefix": "rm(",
     "library": "var_list.r",
     "varRefreshCmd": "cat(var_dic_list()) "
    }
   },
   "types_to_exclude": [
    "module",
    "function",
    "builtin_function_or_method",
    "instance",
    "_Feature"
   ],
   "window_display": false
  }
 },
 "nbformat": 4,
 "nbformat_minor": 5
}
