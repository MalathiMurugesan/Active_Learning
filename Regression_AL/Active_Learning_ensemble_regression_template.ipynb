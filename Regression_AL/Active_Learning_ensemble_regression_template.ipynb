{
 "cells": [
  {
   "cell_type": "code",
   "execution_count": 3,
   "id": "f5f989b2",
   "metadata": {},
   "outputs": [],
   "source": [
    "import numpy as np\n",
    "import matplotlib.pyplot as plt\n",
    "%matplotlib inline\n",
    "\n",
    "from sklearn.gaussian_process import GaussianProcessRegressor\n",
    "from sklearn.gaussian_process.kernels import WhiteKernel, RBF\n",
    "from modAL.models import ActiveLearner, CommitteeRegressor\n",
    "from modAL.disagreement import max_std_sampling"
   ]
  },
  {
   "cell_type": "code",
   "execution_count": 4,
   "id": "8ed2ef46",
   "metadata": {},
   "outputs": [],
   "source": [
    "# generating the data\n",
    "X = np.concatenate((np.random.rand(100)-1, np.random.rand(100)))\n",
    "y = np.abs(X) + np.random.normal(scale=0.2, size=X.shape)"
   ]
  },
  {
   "cell_type": "code",
   "execution_count": 5,
   "id": "fa280933",
   "metadata": {},
   "outputs": [
    {
     "data": {
      "image/png": "[encoded data removed]",
      "text/plain": [
       "<Figure size 504x504 with 1 Axes>"
      ]
     },
     "metadata": {},
     "output_type": "display_data"
    }
   ],
   "source": [
    "# visualizing the data\n",
    "with plt.style.context('seaborn-white'):\n",
    "    plt.figure(figsize=(7, 7))\n",
    "    plt.scatter(X, y, c='k')\n",
    "    plt.title('Noisy absolute value function')\n",
    "    plt.show()"
   ]
  },
  {
   "cell_type": "code",
   "execution_count": 6,
   "id": "9732898d",
   "metadata": {},
   "outputs": [],
   "source": [
    "# initializing the regressors\n",
    "n_initial = 10\n",
    "kernel = RBF(length_scale=1.0, length_scale_bounds=(1e-2, 1e3)) \\\n",
    "         + WhiteKernel(noise_level=1, noise_level_bounds=(1e-10, 1e+1))\n",
    "\n",
    "initial_idx = list()\n",
    "initial_idx.append(np.random.choice(range(100), size=n_initial, replace=False))\n",
    "initial_idx.append(np.random.choice(range(100, 200), size=n_initial, replace=False))\n",
    "learner_list = [ActiveLearner(\n",
    "                        estimator=GaussianProcessRegressor(kernel),\n",
    "                        X_training=X[idx].reshape(-1, 1), y_training=y[idx].reshape(-1, 1)\n",
    "                )\n",
    "                for idx in initial_idx]"
   ]
  },
  {
   "cell_type": "code",
   "execution_count": 7,
   "id": "02598c8d",
   "metadata": {},
   "outputs": [],
   "source": [
    "# initializing the Committee\n",
    "committee = CommitteeRegressor(\n",
    "    learner_list=learner_list,\n",
    "    query_strategy=max_std_sampling\n",
    ")"
   ]
  },
  {
   "cell_type": "code",
   "execution_count": 10,
   "id": "7b5cd5d9",
   "metadata": {},
   "outputs": [],
   "source": [
    "pred, std = committee.predict(x.reshape(-1, 1), return_std=True)\n",
    "pred = pred.reshape(-1, )\n",
    "std = std.reshape(-1, )"
   ]
  },
  {
   "cell_type": "code",
   "execution_count": 12,
   "id": "2868c58c",
   "metadata": {},
   "outputs": [
    {
     "data": {
      "text/plain": [
       "array([0.33378414, 0.32544828, 0.31668244, 0.30750057, 0.29791801,\n",
       "       0.28795144, 0.27761887, 0.26693961, 0.25593423, 0.24462449,\n",
       "       0.23303335, 0.22118486, 0.20910412, 0.19681722, 0.18435117,\n",
       "       0.17173384, 0.15899385, 0.14616051, 0.13326375, 0.12033401,\n",
       "       0.10740214, 0.09449934, 0.08165704, 0.0689068 , 0.05628023])"
      ]
     },
     "execution_count": 12,
     "metadata": {},
     "output_type": "execute_result"
    }
   ],
   "source": [
    "pred[0:25]"
   ]
  },
  {
   "cell_type": "code",
   "execution_count": 13,
   "id": "f5faadea",
   "metadata": {},
   "outputs": [
    {
     "data": {
      "text/plain": [
       "array([0.77670243, 0.77591322, 0.77442572, 0.7722304 , 0.76931888,\n",
       "       0.76568389, 0.76131935, 0.75622038, 0.75038329, 0.74380565,\n",
       "       0.73648628, 0.72842529, 0.71962404, 0.71008521, 0.69981275,\n",
       "       0.68881194, 0.67708931, 0.66465271, 0.65151127, 0.63767537,\n",
       "       0.62315667, 0.60796804, 0.59212358, 0.57563859, 0.5585295 ])"
      ]
     },
     "execution_count": 13,
     "metadata": {},
     "output_type": "execute_result"
    }
   ],
   "source": [
    "std[0:25]"
   ]
  },
  {
   "cell_type": "code",
   "execution_count": 14,
   "id": "478cba66",
   "metadata": {},
   "outputs": [],
   "source": [
    "# active regression\n",
    "n_queries = 10\n",
    "for idx in range(n_queries):\n",
    "    query_idx, query_instance = committee.query(X.reshape(-1, 1))\n",
    "    committee.teach(X[query_idx].reshape(-1, 1), y[query_idx].reshape(-1, 1))"
   ]
  },
  {
   "cell_type": "code",
   "execution_count": 15,
   "id": "f49ce195",
   "metadata": {},
   "outputs": [],
   "source": [
    "pred, std = committee.predict(x.reshape(-1, 1), return_std=True)\n",
    "pred = pred.reshape(-1, )\n",
    "std = std.reshape(-1, )"
   ]
  },
  {
   "cell_type": "code",
   "execution_count": 16,
   "id": "d28d2d22",
   "metadata": {},
   "outputs": [
    {
     "data": {
      "text/plain": [
       "array([1.06042712, 1.06372542, 1.06524695, 1.06493599, 1.06274295,\n",
       "       1.05862495, 1.0525465 , 1.04448007, 1.03440673, 1.0223167 ,\n",
       "       1.00820992, 0.99209654, 0.97399737, 0.9539443 , 0.93198062,\n",
       "       0.90816133, 0.88255327, 0.85523527, 0.82629818, 0.79584474,\n",
       "       0.76398944, 0.73085823, 0.6965881 , 0.66132659, 0.62523119])"
      ]
     },
     "execution_count": 16,
     "metadata": {},
     "output_type": "execute_result"
    }
   ],
   "source": [
    "pred[0:25]"
   ]
  },
  {
   "cell_type": "code",
   "execution_count": 17,
   "id": "8093e3ba",
   "metadata": {},
   "outputs": [
    {
     "data": {
      "text/plain": [
       "array([0.01585266, 0.01808161, 0.0201775 , 0.02212566, 0.02391254,\n",
       "       0.02552586, 0.02695477, 0.02818997, 0.0292239 , 0.03005077,\n",
       "       0.03066671, 0.03106982, 0.03126021, 0.03124006, 0.03101359,\n",
       "       0.03058705, 0.02996865, 0.02916853, 0.02819863, 0.02707255,\n",
       "       0.02580544, 0.02441379, 0.0229153 , 0.02132858, 0.01967301])"
      ]
     },
     "execution_count": 17,
     "metadata": {},
     "output_type": "execute_result"
    }
   ],
   "source": [
    "std[0:25]"
   ]
  },
  {
   "cell_type": "code",
   "execution_count": null,
   "id": "b6b73b66",
   "metadata": {},
   "outputs": [],
   "source": [
    "# after few queries differences are smmothed out and regressors reach an agreement"
   ]
  }
 ],
 "metadata": {
  "kernelspec": {
   "display_name": "Python 3 (ipykernel)",
   "language": "python",
   "name": "python3"
  },
  "language_info": {
   "codemirror_mode": {
    "name": "ipython",
    "version": 3
   },
   "file_extension": ".py",
   "mimetype": "text/x-python",
   "name": "python",
   "nbconvert_exporter": "python",
   "pygments_lexer": "ipython3",
   "version": "3.8.10"
  },
  "varInspector": {
   "cols": {
    "lenName": 16,
    "lenType": 16,
    "lenVar": 40
   },
   "kernels_config": {
    "python": {
     "delete_cmd_postfix": "",
     "delete_cmd_prefix": "del ",
     "library": "var_list.py",
     "varRefreshCmd": "print(var_dic_list())"
    },
    "r": {
     "delete_cmd_postfix": ") ",
     "delete_cmd_prefix": "rm(",
     "library": "var_list.r",
     "varRefreshCmd": "cat(var_dic_list()) "
    }
   },
   "types_to_exclude": [
    "module",
    "function",
    "builtin_function_or_method",
    "instance",
    "_Feature"
   ],
   "window_display": false
  }
 },
 "nbformat": 4,
 "nbformat_minor": 5
}
