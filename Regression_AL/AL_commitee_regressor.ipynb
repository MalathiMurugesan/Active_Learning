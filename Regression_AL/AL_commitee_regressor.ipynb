{
 "cells": [
  {
   "cell_type": "code",
   "execution_count": 9,
   "id": "c5608f29",
   "metadata": {},
   "outputs": [],
   "source": [
    "import pandas as pd\n",
    "import os\n",
    "import numpy as np\n",
    "\n",
    "import matplotlib.pyplot as plt\n",
    "from sklearn.gaussian_process import GaussianProcessRegressor\n",
    "from sklearn.gaussian_process.kernels import WhiteKernel, RBF\n",
    "\n",
    "\n",
    "from sklearn.gaussian_process.kernels import WhiteKernel, RBF\n",
    "from modAL.models import ActiveLearner, CommitteeRegressor\n",
    "from modAL.disagreement import max_std_sampling\n",
    "from sklearn.model_selection import train_test_split\n",
    "from sklearn.metrics import r2_score,mean_squared_error\n",
    "import math\n",
    "\n",
    "%matplotlib inline"
   ]
  },
  {
   "cell_type": "code",
   "execution_count": 14,
   "id": "9d2b8014",
   "metadata": {},
   "outputs": [
    {
     "data": {
      "text/plain": [
       "(7077, 6)"
      ]
     },
     "execution_count": 14,
     "metadata": {},
     "output_type": "execute_result"
    }
   ],
   "source": [
    "# cleaned version of the data after removing outliers and negative values\n",
    "path='/workspace/malathi/steam_turbine_stage_1_POC/notebooks/version_1/df_sorted.csv'\n",
    "data=pd.read_csv(path)\n",
    "data.shape"
   ]
  },
  {
   "cell_type": "code",
   "execution_count": 15,
   "id": "70009c79",
   "metadata": {},
   "outputs": [],
   "source": [
    "INPUT_COLUMNS=[ 'expansion ratio','corrected speed','ImpulseStage_CurrentStroke']\n",
    "OUTPUT_COLUMNS=['ImpulseStage_Power', 'Impulse_Discharge_Temperature', 'corrected mass flow']"
   ]
  },
  {
   "cell_type": "code",
   "execution_count": 16,
   "id": "fa26ede9",
   "metadata": {},
   "outputs": [
    {
     "data": {
      "text/html": [
       "<div>\n",
       "<style scoped>\n",
       "    .dataframe tbody tr th:only-of-type {\n",
       "        vertical-align: middle;\n",
       "    }\n",
       "\n",
       "    .dataframe tbody tr th {\n",
       "        vertical-align: top;\n",
       "    }\n",
       "\n",
       "    .dataframe thead th {\n",
       "        text-align: right;\n",
       "    }\n",
       "</style>\n",
       "<table border=\"1\" class=\"dataframe\">\n",
       "  <thead>\n",
       "    <tr style=\"text-align: right;\">\n",
       "      <th></th>\n",
       "      <th>expansion ratio</th>\n",
       "      <th>corrected speed</th>\n",
       "      <th>ImpulseStage_CurrentStroke</th>\n",
       "      <th>ImpulseStage_Power</th>\n",
       "      <th>Impulse_Discharge_Temperature</th>\n",
       "      <th>corrected mass flow</th>\n",
       "    </tr>\n",
       "  </thead>\n",
       "  <tbody>\n",
       "    <tr>\n",
       "      <th>6473</th>\n",
       "      <td>1.337366</td>\n",
       "      <td>142.508617</td>\n",
       "      <td>50.65</td>\n",
       "      <td>1641.145019</td>\n",
       "      <td>336.113769</td>\n",
       "      <td>19.231765</td>\n",
       "    </tr>\n",
       "    <tr>\n",
       "      <th>7034</th>\n",
       "      <td>1.210939</td>\n",
       "      <td>136.013304</td>\n",
       "      <td>64.97</td>\n",
       "      <td>1286.341431</td>\n",
       "      <td>427.528717</td>\n",
       "      <td>21.071173</td>\n",
       "    </tr>\n",
       "    <tr>\n",
       "      <th>5261</th>\n",
       "      <td>1.630553</td>\n",
       "      <td>135.327727</td>\n",
       "      <td>36.35</td>\n",
       "      <td>1851.047241</td>\n",
       "      <td>372.219635</td>\n",
       "      <td>15.706905</td>\n",
       "    </tr>\n",
       "    <tr>\n",
       "      <th>4820</th>\n",
       "      <td>1.789481</td>\n",
       "      <td>139.796598</td>\n",
       "      <td>33.48</td>\n",
       "      <td>1986.319824</td>\n",
       "      <td>339.213135</td>\n",
       "      <td>14.301727</td>\n",
       "    </tr>\n",
       "    <tr>\n",
       "      <th>3745</th>\n",
       "      <td>2.390737</td>\n",
       "      <td>137.233751</td>\n",
       "      <td>27.76</td>\n",
       "      <td>1575.878662</td>\n",
       "      <td>354.958038</td>\n",
       "      <td>10.492459</td>\n",
       "    </tr>\n",
       "  </tbody>\n",
       "</table>\n",
       "</div>"
      ],
      "text/plain": [
       "      expansion ratio  corrected speed  ImpulseStage_CurrentStroke  \\\n",
       "6473         1.337366       142.508617                       50.65   \n",
       "7034         1.210939       136.013304                       64.97   \n",
       "5261         1.630553       135.327727                       36.35   \n",
       "4820         1.789481       139.796598                       33.48   \n",
       "3745         2.390737       137.233751                       27.76   \n",
       "\n",
       "      ImpulseStage_Power  Impulse_Discharge_Temperature  corrected mass flow  \n",
       "6473         1641.145019                     336.113769            19.231765  \n",
       "7034         1286.341431                     427.528717            21.071173  \n",
       "5261         1851.047241                     372.219635            15.706905  \n",
       "4820         1986.319824                     339.213135            14.301727  \n",
       "3745         1575.878662                     354.958038            10.492459  "
      ]
     },
     "execution_count": 16,
     "metadata": {},
     "output_type": "execute_result"
    }
   ],
   "source": [
    "data.sample(5)"
   ]
  },
  {
   "cell_type": "code",
   "execution_count": 17,
   "id": "752520a3",
   "metadata": {},
   "outputs": [
    {
     "name": "stdout",
     "output_type": "stream",
     "text": [
      "(7077, 3) (7077,)\n",
      "(7077, 3) (7077, 1)\n"
     ]
    }
   ],
   "source": [
    "# predictions for 'Impulsestage_Power'\n",
    "X=data.drop(OUTPUT_COLUMNS,axis=1)\n",
    "y=data['ImpulseStage_Power']\n",
    "print(X.shape,y.shape)\n",
    "XX=X.values.reshape(-1,3)\n",
    "yy=y.values.reshape(-1,1)\n",
    "print(XX.shape,yy.shape)"
   ]
  },
  {
   "cell_type": "code",
   "execution_count": 23,
   "id": "929d90ba",
   "metadata": {},
   "outputs": [
    {
     "name": "stdout",
     "output_type": "stream",
     "text": [
      "(1061, 3) (1061, 1) (6016, 3) (6016, 1)\n"
     ]
    }
   ],
   "source": [
    "# train_x,test_x,train_y,test_y = train_test_split(XX,yy,test_size=0.85,random_state=999)\n",
    "# print(train_x.shape,train_y.shape,test_x.shape,test_y.shape)"
   ]
  },
  {
   "cell_type": "code",
   "execution_count": 30,
   "id": "b1b26b5a",
   "metadata": {},
   "outputs": [
    {
     "name": "stdout",
     "output_type": "stream",
     "text": [
      "[1614 1543 3802 3367 4985]\n",
      "(250, 3) (250, 1)\n",
      "(6830, 3) (6830, 1)\n"
     ]
    }
   ],
   "source": [
    "# X_raw=XX.copy()\n",
    "# y_raw=yy.copy()\n",
    "\n",
    "# # Isolate our examples for our labeled dataset.\n",
    "# n_labeled_examples=X_raw.shape[0]\n",
    "# training_indices = np.random.randint(low=0,high=len(X_raw)+1,size=250)\n",
    "# print(training_indices[0:5])\n",
    "\n",
    "# # Defining the training data\n",
    "# X_training = X_raw[training_indices]\n",
    "# y_training = y_raw[training_indices]\n",
    "# print(X_training.shape,y_training.shape)\n",
    "\n",
    "# # Isolate the non-training examples we'll be querying.\n",
    "# X_pool = np.delete(X_raw, training_indices, axis=0)\n",
    "# y_pool = np.delete(y_raw, training_indices, axis=0)\n",
    "# print(X_pool.shape,y_pool.shape)"
   ]
  },
  {
   "cell_type": "code",
   "execution_count": 33,
   "id": "ca7b3f23",
   "metadata": {},
   "outputs": [
    {
     "name": "stdout",
     "output_type": "stream",
     "text": [
      "(5307, 3) (5307, 1) (1770, 3) (1770, 1)\n",
      "(5307, 3) (5307, 1)\n"
     ]
    }
   ],
   "source": [
    "n_initial=100\n",
    "X_train, X_test, y_train, y_test = train_test_split(XX, yy)\n",
    "print(X_train.shape,y_train.shape,X_test.shape,y_test.shape)\n",
    "#initial_idx = np.random.choice(range(len(X_train)), size=n_initial, replace=False)\n",
    "\n",
    "#X_initial, y_initial = X_train[initial_idx], y_train[initial_idx]\n",
    "X_pool, y_pool = np.delete(X_train, initial_idx, axis=0), np.delete(y_train, initial_idx, axis=0)\n",
    "print(X_pool.shape,y_pool.shape)"
   ]
  },
  {
   "cell_type": "code",
   "execution_count": 34,
   "id": "9ac1baac",
   "metadata": {},
   "outputs": [
    {
     "name": "stderr",
     "output_type": "stream",
     "text": [
      "/usr/local/lib/python3.8/dist-packages/sklearn/gaussian_process/kernels.py:430: ConvergenceWarning: The optimal value found for dimension 0 of parameter k2__noise_level is close to the specified upper bound 10.0. Increasing the bound and calling fit again may find a better value.\n",
      "  warnings.warn(\n",
      "/usr/local/lib/python3.8/dist-packages/sklearn/gaussian_process/kernels.py:430: ConvergenceWarning: The optimal value found for dimension 0 of parameter k2__noise_level is close to the specified upper bound 10.0. Increasing the bound and calling fit again may find a better value.\n",
      "  warnings.warn(\n"
     ]
    }
   ],
   "source": [
    "initial_idx = list()\n",
    "initial_idx.append(np.random.choice(range(100), size=n_initial, replace=False))\n",
    "initial_idx.append(np.random.choice(range(100, 200), size=n_initial, replace=False))\n",
    "learner_list = [ActiveLearner(\n",
    "                        estimator=GaussianProcessRegressor(kernel),\n",
    "                        X_training=X_train[idx], y_training=y_train[idx]\n",
    "                )\n",
    "                for idx in initial_idx]"
   ]
  },
  {
   "cell_type": "code",
   "execution_count": 35,
   "id": "53cb36d3",
   "metadata": {},
   "outputs": [],
   "source": [
    "# initializing the Committee\n",
    "committee = CommitteeRegressor(\n",
    "    learner_list=learner_list,\n",
    "    query_strategy=max_std_sampling\n",
    ")"
   ]
  },
  {
   "cell_type": "code",
   "execution_count": 36,
   "id": "f5f0bc68",
   "metadata": {},
   "outputs": [],
   "source": [
    "pred, std = committee.predict(X_pool, return_std=True)\n",
    "#pred = pred.reshape(-1, )"
   ]
  },
  {
   "cell_type": "code",
   "execution_count": 37,
   "id": "0d3cd645",
   "metadata": {},
   "outputs": [
    {
     "data": {
      "text/plain": [
       "array([1290.17678915, 1463.0164953 , 1146.8332046 , 1465.5236164 ,\n",
       "       1001.98932075,  601.51227039])"
      ]
     },
     "execution_count": 37,
     "metadata": {},
     "output_type": "execute_result"
    }
   ],
   "source": [
    "pred[0:6]"
   ]
  },
  {
   "cell_type": "code",
   "execution_count": 38,
   "id": "19960788",
   "metadata": {},
   "outputs": [
    {
     "data": {
      "text/plain": [
       "array([39.94666918, 38.87077788, 17.8939262 , 28.61246271, 23.05294708,\n",
       "       16.30053903])"
      ]
     },
     "execution_count": 38,
     "metadata": {},
     "output_type": "execute_result"
    }
   ],
   "source": [
    "std[0:6]"
   ]
  },
  {
   "cell_type": "code",
   "execution_count": 39,
   "id": "f05a8770",
   "metadata": {},
   "outputs": [
    {
     "name": "stderr",
     "output_type": "stream",
     "text": [
      "/usr/local/lib/python3.8/dist-packages/sklearn/gaussian_process/kernels.py:430: ConvergenceWarning: The optimal value found for dimension 0 of parameter k2__noise_level is close to the specified upper bound 10.0. Increasing the bound and calling fit again may find a better value.\n",
      "  warnings.warn(\n",
      "/usr/local/lib/python3.8/dist-packages/sklearn/gaussian_process/kernels.py:430: ConvergenceWarning: The optimal value found for dimension 0 of parameter k2__noise_level is close to the specified upper bound 10.0. Increasing the bound and calling fit again may find a better value.\n",
      "  warnings.warn(\n",
      "/usr/local/lib/python3.8/dist-packages/sklearn/gaussian_process/kernels.py:430: ConvergenceWarning: The optimal value found for dimension 0 of parameter k2__noise_level is close to the specified upper bound 10.0. Increasing the bound and calling fit again may find a better value.\n",
      "  warnings.warn(\n",
      "/usr/local/lib/python3.8/dist-packages/sklearn/gaussian_process/kernels.py:430: ConvergenceWarning: The optimal value found for dimension 0 of parameter k2__noise_level is close to the specified upper bound 10.0. Increasing the bound and calling fit again may find a better value.\n",
      "  warnings.warn(\n",
      "/usr/local/lib/python3.8/dist-packages/sklearn/gaussian_process/kernels.py:430: ConvergenceWarning: The optimal value found for dimension 0 of parameter k2__noise_level is close to the specified upper bound 10.0. Increasing the bound and calling fit again may find a better value.\n",
      "  warnings.warn(\n",
      "/usr/local/lib/python3.8/dist-packages/sklearn/gaussian_process/kernels.py:430: ConvergenceWarning: The optimal value found for dimension 0 of parameter k2__noise_level is close to the specified upper bound 10.0. Increasing the bound and calling fit again may find a better value.\n",
      "  warnings.warn(\n",
      "/usr/local/lib/python3.8/dist-packages/sklearn/gaussian_process/kernels.py:430: ConvergenceWarning: The optimal value found for dimension 0 of parameter k2__noise_level is close to the specified upper bound 10.0. Increasing the bound and calling fit again may find a better value.\n",
      "  warnings.warn(\n",
      "/usr/local/lib/python3.8/dist-packages/sklearn/gaussian_process/kernels.py:430: ConvergenceWarning: The optimal value found for dimension 0 of parameter k2__noise_level is close to the specified upper bound 10.0. Increasing the bound and calling fit again may find a better value.\n",
      "  warnings.warn(\n",
      "/usr/local/lib/python3.8/dist-packages/sklearn/gaussian_process/kernels.py:430: ConvergenceWarning: The optimal value found for dimension 0 of parameter k2__noise_level is close to the specified upper bound 10.0. Increasing the bound and calling fit again may find a better value.\n",
      "  warnings.warn(\n",
      "/usr/local/lib/python3.8/dist-packages/sklearn/gaussian_process/kernels.py:430: ConvergenceWarning: The optimal value found for dimension 0 of parameter k2__noise_level is close to the specified upper bound 10.0. Increasing the bound and calling fit again may find a better value.\n",
      "  warnings.warn(\n",
      "/usr/local/lib/python3.8/dist-packages/sklearn/gaussian_process/kernels.py:430: ConvergenceWarning: The optimal value found for dimension 0 of parameter k2__noise_level is close to the specified upper bound 10.0. Increasing the bound and calling fit again may find a better value.\n",
      "  warnings.warn(\n",
      "/usr/local/lib/python3.8/dist-packages/sklearn/gaussian_process/kernels.py:430: ConvergenceWarning: The optimal value found for dimension 0 of parameter k2__noise_level is close to the specified upper bound 10.0. Increasing the bound and calling fit again may find a better value.\n",
      "  warnings.warn(\n",
      "/usr/local/lib/python3.8/dist-packages/sklearn/gaussian_process/kernels.py:430: ConvergenceWarning: The optimal value found for dimension 0 of parameter k2__noise_level is close to the specified upper bound 10.0. Increasing the bound and calling fit again may find a better value.\n",
      "  warnings.warn(\n",
      "/usr/local/lib/python3.8/dist-packages/sklearn/gaussian_process/kernels.py:430: ConvergenceWarning: The optimal value found for dimension 0 of parameter k2__noise_level is close to the specified upper bound 10.0. Increasing the bound and calling fit again may find a better value.\n",
      "  warnings.warn(\n",
      "/usr/local/lib/python3.8/dist-packages/sklearn/gaussian_process/kernels.py:430: ConvergenceWarning: The optimal value found for dimension 0 of parameter k2__noise_level is close to the specified upper bound 10.0. Increasing the bound and calling fit again may find a better value.\n",
      "  warnings.warn(\n",
      "/usr/local/lib/python3.8/dist-packages/sklearn/gaussian_process/kernels.py:430: ConvergenceWarning: The optimal value found for dimension 0 of parameter k2__noise_level is close to the specified upper bound 10.0. Increasing the bound and calling fit again may find a better value.\n",
      "  warnings.warn(\n",
      "/usr/local/lib/python3.8/dist-packages/sklearn/gaussian_process/kernels.py:430: ConvergenceWarning: The optimal value found for dimension 0 of parameter k2__noise_level is close to the specified upper bound 10.0. Increasing the bound and calling fit again may find a better value.\n",
      "  warnings.warn(\n",
      "/usr/local/lib/python3.8/dist-packages/sklearn/gaussian_process/kernels.py:430: ConvergenceWarning: The optimal value found for dimension 0 of parameter k2__noise_level is close to the specified upper bound 10.0. Increasing the bound and calling fit again may find a better value.\n",
      "  warnings.warn(\n",
      "/usr/local/lib/python3.8/dist-packages/sklearn/gaussian_process/kernels.py:430: ConvergenceWarning: The optimal value found for dimension 0 of parameter k2__noise_level is close to the specified upper bound 10.0. Increasing the bound and calling fit again may find a better value.\n",
      "  warnings.warn(\n",
      "/usr/local/lib/python3.8/dist-packages/sklearn/gaussian_process/kernels.py:430: ConvergenceWarning: The optimal value found for dimension 0 of parameter k2__noise_level is close to the specified upper bound 10.0. Increasing the bound and calling fit again may find a better value.\n",
      "  warnings.warn(\n"
     ]
    }
   ],
   "source": [
    "# active regression\n",
    "n_queries = 10\n",
    "for idx in range(n_queries):\n",
    "    query_idx, query_instance = committee.query(X_train)\n",
    "    committee.teach(X_train[query_idx], y_train[query_idx])"
   ]
  },
  {
   "cell_type": "code",
   "execution_count": 40,
   "id": "45820966",
   "metadata": {},
   "outputs": [],
   "source": [
    "pred_1, std_1 = committee.predict(X_pool, return_std=True)"
   ]
  },
  {
   "cell_type": "code",
   "execution_count": 41,
   "id": "fe144abb",
   "metadata": {},
   "outputs": [
    {
     "data": {
      "text/plain": [
       "array([1353.74017672, 1525.96615174, 1154.03909595, 1503.24522575,\n",
       "       1031.53769449,  647.10609634])"
      ]
     },
     "execution_count": 41,
     "metadata": {},
     "output_type": "execute_result"
    }
   ],
   "source": [
    "pred_1[0:6]"
   ]
  },
  {
   "cell_type": "code",
   "execution_count": 42,
   "id": "94b7abf8",
   "metadata": {},
   "outputs": [
    {
     "data": {
      "text/plain": [
       "array([31.8174922 , 32.0436094 , 16.84175305, 25.00977792, 17.93389773,\n",
       "        5.63649528])"
      ]
     },
     "execution_count": 42,
     "metadata": {},
     "output_type": "execute_result"
    }
   ],
   "source": [
    "std_1[0:6]"
   ]
  },
  {
   "cell_type": "code",
   "execution_count": null,
   "id": "3790c828",
   "metadata": {},
   "outputs": [],
   "source": []
  }
 ],
 "metadata": {
  "kernelspec": {
   "display_name": "Python 3 (ipykernel)",
   "language": "python",
   "name": "python3"
  },
  "language_info": {
   "codemirror_mode": {
    "name": "ipython",
    "version": 3
   },
   "file_extension": ".py",
   "mimetype": "text/x-python",
   "name": "python",
   "nbconvert_exporter": "python",
   "pygments_lexer": "ipython3",
   "version": "3.8.10"
  },
  "toc": {
   "base_numbering": 1,
   "nav_menu": {},
   "number_sections": true,
   "sideBar": true,
   "skip_h1_title": false,
   "title_cell": "Table of Contents",
   "title_sidebar": "Contents",
   "toc_cell": false,
   "toc_position": {},
   "toc_section_display": true,
   "toc_window_display": false
  },
  "varInspector": {
   "cols": {
    "lenName": 16,
    "lenType": 16,
    "lenVar": 40
   },
   "kernels_config": {
    "python": {
     "delete_cmd_postfix": "",
     "delete_cmd_prefix": "del ",
     "library": "var_list.py",
     "varRefreshCmd": "print(var_dic_list())"
    },
    "r": {
     "delete_cmd_postfix": ") ",
     "delete_cmd_prefix": "rm(",
     "library": "var_list.r",
     "varRefreshCmd": "cat(var_dic_list()) "
    }
   },
   "types_to_exclude": [
    "module",
    "function",
    "builtin_function_or_method",
    "instance",
    "_Feature"
   ],
   "window_display": false
  }
 },
 "nbformat": 4,
 "nbformat_minor": 5
}
